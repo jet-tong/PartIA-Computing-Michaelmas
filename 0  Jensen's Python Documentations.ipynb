{
 "cells": [
  {
   "cell_type": "markdown",
   "metadata": {},
   "source": [
    "DISCOVERY: in cmd, type `py -m pip install --upgrade jupyterthemes` to make pip work"
   ]
  },
  {
   "cell_type": "code",
   "execution_count": 1,
   "metadata": {},
   "outputs": [],
   "source": [
    "\"Installing libraries\"\n",
    "\n",
    "# NumPy\n",
    "import numpy as np\n",
    "\n",
    "# IPython Magic command for matplotlib\n",
    "%matplotlib inline\n",
    "import matplotlib.pyplot as plt\n",
    "\n",
    "# IPython Kernel Config: display all outputs\n",
    "from IPython.core.interactiveshell import InteractiveShell\n",
    "InteractiveShell.ast_node_interactivity = \"all\""
   ]
  },
  {
   "cell_type": "markdown",
   "metadata": {},
   "source": [
    "# Types"
   ]
  },
  {
   "cell_type": "markdown",
   "metadata": {},
   "source": [
    "### Numbers: `int`, `float`, `complex`\n",
    "\n",
    "\n",
    "```python\n",
    "abs(x)\n",
    "int(x)\n",
    "float(x)\n",
    "\n",
    "complex(re, im) # im defaults to zero\n",
    "x.conjugate()\n",
    "\n",
    "divmod(x,y) # the pair x//y and x%y\n",
    "\n",
    "```\n",
    "    "
   ]
  },
  {
   "cell_type": "markdown",
   "metadata": {},
   "source": [
    "### `int`\n",
    "\n",
    "\n",
    "```python\n",
    "int.bit_length() # Returns how many bits the integer uses\n",
    "\n",
    "int.to_bytes(length, byteorder, *, signed=False)\n",
    "int.from_bytes(bytes, byteorder, *, signed=False)\n",
    "```\n",
    "    "
   ]
  },
  {
   "cell_type": "markdown",
   "metadata": {},
   "source": [
    "### `float`\n",
    "\n",
    "\n",
    "```python\n",
    "float.as_integer_ratio()\n",
    "float.is_integer()\n",
    "\n",
    "float.hex()\n",
    "float.fromhex('0x3.a7p10')\n",
    "\n",
    "```\n",
    "    "
   ]
  },
  {
   "cell_type": "markdown",
   "metadata": {},
   "source": [
    "### `str`\n",
    "\n",
    "\n",
    "```python\n",
    "len(str)\n",
    "str[i]\n",
    "str[start:end+1]\n",
    "\n",
    "\"string1\" + \"string2\" # Concatenation\n",
    "\n",
    "str.format(*args, **kwargs)\n",
    "\"The sum of 1 + 2 is {0}\".format(1+2)\n",
    "\"4/3 in 2 sf is {:.2}\".format(4/3)\n",
    "\"4/3 in 2 dp is {:.2f}\".format(4/3)\n",
    "\"100/3 in scientific notation 20 dp is {:.20e}\".format(100/3)\n",
    "\n",
    "str.find(sub[, start[, end]])\n",
    "'Hello, World!'.find('ll') == 2\n",
    "'ll' in 'Hello, World!' == True\n",
    "    \n",
    "```\n",
    "    "
   ]
  },
  {
   "cell_type": "code",
   "execution_count": 27,
   "metadata": {},
   "outputs": [],
   "source": [
    "assert 'll' in 'Hello, World!'\n"
   ]
  },
  {
   "cell_type": "markdown",
   "metadata": {},
   "source": [
    "# `cmath`"
   ]
  },
  {
   "cell_type": "markdown",
   "metadata": {},
   "source": [
    "### Important ones:\n",
    "\n",
    "```python\n",
    "z == z.real + z.imag*1j\n",
    "\n",
    "cmath.phase(z) # means argument\n",
    "cmath.polar(z)\n",
    "cmath.rect(r, phi)\n",
    "\n",
    "cmath.exp(x)\n",
    "cmath.sqrt(x)\n",
    "```\n",
    "\n",
    "Trig functions like `sin, asin, sinh` are in cmath too."
   ]
  },
  {
   "cell_type": "markdown",
   "metadata": {},
   "source": [
    "# `numpy`"
   ]
  },
  {
   "cell_type": "markdown",
   "metadata": {},
   "source": [
    "### NumPy Arrays\n",
    "\n",
    "```python\n",
    "np.zeros(shape, dtype=float, order='C')\n",
    "np.ones(shape, dtype=float, order='C')\n",
    "# Shape: Integer for 1D array,\n",
    "#        [x,y,z,t] for more dimensions\n",
    "\n",
    "np.random.rand()\n",
    "\n",
    "np.random.norm()\n",
    "```"
   ]
  },
  {
   "cell_type": "markdown",
   "metadata": {},
   "source": [
    "# Plotting\n",
    "[Colour Codes for Pie Chart](https://stackoverflow.com/questions/22408237/named-colors-in-matplotlib)"
   ]
  },
  {
   "cell_type": "markdown",
   "metadata": {},
   "source": [
    "```python\n",
    "plt.plot(*args, scalex=True, scaley=True, data=None, **kwargs)[source]\n",
    "```"
   ]
  }
 ],
 "metadata": {
  "kernelspec": {
   "display_name": "Python 3",
   "language": "python",
   "name": "python3"
  },
  "language_info": {
   "codemirror_mode": {
    "name": "ipython",
    "version": 3
   },
   "file_extension": ".py",
   "mimetype": "text/x-python",
   "name": "python",
   "nbconvert_exporter": "python",
   "pygments_lexer": "ipython3",
   "version": "3.7.6"
  }
 },
 "nbformat": 4,
 "nbformat_minor": 4
}
