{
 "cells": [
  {
   "cell_type": "markdown",
   "metadata": {},
   "source": [
    "# Introduction\n",
    "\n",
    "Here I will list all the markdown formatting that I may use in the notebook\n",
    "\n",
    "<br>\n",
    "\n",
    "\n",
    "## Subheaders\n",
    "### Subsubheader\n",
    "#### I don't even know whether I'll used this header\n",
    "\n",
    "<br><br>A lot of breaks with `<br>`\n",
    "<br> \n",
    "\n",
    "*Italic* keywords\n",
    "> Highlights or key ideas with a nice little indent over here\n",
    "\n",
    "Some Hyperlinks, like this one: [00 Introduction](http://localhost:8889/notebooks/Documents/GitHub/PartIA-Computing-Michaelmas/01%20Variables%2C%20assignment%20and%20operator%20precedence.ipynb)\n",
    " <br><br>\n",
    "\n",
    "- Bullet points\n",
    "\n",
    "\n",
    "1. Lists, and its interesting how you only need to type 1. for all of them\n",
    "1. and also separate 2 normal lines between bullet points and enumerated lists\n",
    "\n",
    "<br>\n",
    "\n",
    "\n",
    "`Some code` within sentences, or\n",
    "\n",
    "```python\n",
    "print(\"Some Python Code (that is just for show)\")\n",
    "```\n",
    "\n",
    "<br>\n",
    "\n",
    "\n",
    "Some $\\LaTeX equations \\; or \\; variables$ within text, or\n",
    "$$\n",
    "\\int \\; \\LaTeX \\; \\textit{Equation}x \\; dx\n",
    "$$\n",
    "\n",
    "\n",
    "\n"
   ]
  },
  {
   "cell_type": "markdown",
   "metadata": {},
   "source": [
    "# Course Content\n",
    "\n",
    "\n",
    "0. [Structure](00%20Part%20IA%20Michaelmas%20Term%20computing.ipynb)\n",
    "1. [Variables, assignment and operator precedence](01%20Variables,%20assignment%20and%20operator%20precedence.ipynb)\n",
    "1. [Control statements](02%20Control%20statements.ipynb)\n",
    "1. [Types, type conversions and floating point arithmetic](03%20Types,%20type%20conversions%20and%20floating%20point%20arithmetic.ipynb)\n",
    "1. [Functions](04%20Functions.ipynb)\n",
    "1. [Library functions](05%20Library%20functions.ipynb)\n",
    "1. [Data structures](06%20Data%20structures.ipynb)\n",
    "1. [Numerical computation](07%20Numerical%20computation.ipynb)\n",
    "1. [Plotting](08%20Plotting.ipynb)\n",
    "1. [Error handling and testing](09%20Error%20handling%20and%20testing.ipynb)\n",
    "1. [Algorithms](10%20Algorithms.ipynb)\n",
    "1. [Complexity](11%20Complexity.ipynb)\n",
    "1. [Object-oriented design](12%20Object-oriented%20design.ipynb)"
   ]
  },
  {
   "cell_type": "markdown",
   "metadata": {},
   "source": [
    "# 01 Variables, assignment and operator precedence"
   ]
  },
  {
   "cell_type": "markdown",
   "metadata": {},
   "source": [
    "### Operations"
   ]
  },
  {
   "cell_type": "code",
   "execution_count": 40,
   "metadata": {
    "scrolled": false
   },
   "outputs": [
    {
     "name": "stdout",
     "output_type": "stream",
     "text": [
      "256\n",
      "2\n",
      "3\n"
     ]
    }
   ],
   "source": [
    "print(2 ** 8)\n",
    "print(11 % 3)\n",
    "print(11 // 3)"
   ]
  },
  {
   "cell_type": "markdown",
   "metadata": {},
   "source": [
    "### Shortcuts"
   ]
  },
  {
   "cell_type": "code",
   "execution_count": 41,
   "metadata": {},
   "outputs": [
    {
     "name": "stdout",
     "output_type": "stream",
     "text": [
      "48\n"
     ]
    }
   ],
   "source": [
    "a = 12\n",
    "a *= 4\n",
    "print(a)"
   ]
  },
  {
   "cell_type": "markdown",
   "metadata": {},
   "source": [
    "### $\\LaTeX$ Symbols\n",
    "LaTeX Commands within code: <br>\n",
    "Type `'\\theta'` followed by `tab` key"
   ]
  },
  {
   "cell_type": "code",
   "execution_count": 42,
   "metadata": {},
   "outputs": [
    {
     "name": "stdout",
     "output_type": "stream",
     "text": [
      "30\n"
     ]
    }
   ],
   "source": [
    "α = 10\n",
    "β = 20\n",
    "γ = α + β\n",
    "print(γ)"
   ]
  },
  {
   "cell_type": "markdown",
   "metadata": {},
   "source": [
    "# 02 Control statements"
   ]
  },
  {
   "cell_type": "markdown",
   "metadata": {},
   "source": [
    "### Boolean Operators"
   ]
  },
  {
   "cell_type": "code",
   "execution_count": 43,
   "metadata": {},
   "outputs": [
    {
     "name": "stdout",
     "output_type": "stream",
     "text": [
      "False\n"
     ]
    }
   ],
   "source": [
    "print(10 < 9 or not 15 < 20 or 10 != 10)"
   ]
  },
  {
   "cell_type": "markdown",
   "metadata": {},
   "source": [
    "### `if`"
   ]
  },
  {
   "cell_type": "code",
   "execution_count": 44,
   "metadata": {},
   "outputs": [
    {
     "name": "stdout",
     "output_type": "stream",
     "text": [
      "Initial x is less than zero\n"
     ]
    }
   ],
   "source": [
    "x = -10.0\n",
    "\n",
    "if x > 0.0:  \n",
    "    print('Initial x is greater than zero')\n",
    "elif x < 0.0:  \n",
    "    print('Initial x is less than zero')\n",
    "else: \n",
    "    print('Initial x is not less than zero and not greater than zero, therefore it must be zero')"
   ]
  },
  {
   "cell_type": "markdown",
   "metadata": {},
   "source": [
    "### `for`"
   ]
  },
  {
   "cell_type": "code",
   "execution_count": 45,
   "metadata": {},
   "outputs": [
    {
     "name": "stdout",
     "output_type": "stream",
     "text": [
      "0 0\n",
      "1 1\n",
      "2 4\n",
      "3 9\n",
      "----\n",
      "0\n",
      "3\n",
      "6\n",
      "9\n"
     ]
    }
   ],
   "source": [
    "for n in range(4):\n",
    "    print(n, n**2)\n",
    "print(\"----\")\n",
    "for n in range(0, 10, 3):\n",
    "    print(n)"
   ]
  },
  {
   "cell_type": "markdown",
   "metadata": {},
   "source": [
    "### `while`"
   ]
  },
  {
   "cell_type": "code",
   "execution_count": 46,
   "metadata": {},
   "outputs": [
    {
     "name": "stdout",
     "output_type": "stream",
     "text": [
      "-2\n",
      "-1\n",
      "0\n",
      "1\n",
      "2\n",
      "3\n",
      "4\n"
     ]
    }
   ],
   "source": [
    "x = -2\n",
    "while x < 5:\n",
    "    print(x)\n",
    "    x += 1  # Increment x"
   ]
  },
  {
   "cell_type": "markdown",
   "metadata": {},
   "source": [
    "### `break`"
   ]
  },
  {
   "cell_type": "code",
   "execution_count": 47,
   "metadata": {
    "scrolled": true
   },
   "outputs": [
    {
     "name": "stdout",
     "output_type": "stream",
     "text": [
      "0\n",
      "1\n",
      "2\n",
      "3\n",
      "4\n",
      "5\n",
      "Time to break out\n"
     ]
    }
   ],
   "source": [
    "for x in range(10):\n",
    "    print(x)\n",
    "    if x == 5:\n",
    "        print(\"Time to break out\")\n",
    "        break"
   ]
  },
  {
   "cell_type": "markdown",
   "metadata": {},
   "source": [
    "### `continue`"
   ]
  },
  {
   "cell_type": "code",
   "execution_count": 48,
   "metadata": {},
   "outputs": [
    {
     "name": "stdout",
     "output_type": "stream",
     "text": [
      "Number is divisible by 4: 0\n",
      "Number is divisible by 4: 4\n",
      "Number is divisible by 4: 8\n",
      "Number is divisible by 4: 12\n",
      "Number is divisible by 4: 16\n"
     ]
    }
   ],
   "source": [
    "for j in range(20):\n",
    "    if j % 4 != 0:  # Check remained of j/4\n",
    "        continue  # jump to next iteration over j\n",
    "    print(\"Number is divisible by 4:\", j)"
   ]
  },
  {
   "cell_type": "markdown",
   "metadata": {},
   "source": [
    "### `pass`"
   ]
  },
  {
   "cell_type": "code",
   "execution_count": 49,
   "metadata": {},
   "outputs": [
    {
     "name": "stdout",
     "output_type": "stream",
     "text": [
      "25\n",
      "36\n",
      "49\n",
      "64\n",
      "9\n"
     ]
    }
   ],
   "source": [
    "for x in range(10):\n",
    "    if x < 5:\n",
    "        # TODO: implement handling of x < 5 when other cases finished (fake TODO btw)\n",
    "        pass\n",
    "    elif x < 9:\n",
    "        print(x*x)\n",
    "    else:\n",
    "        print(x)"
   ]
  },
  {
   "cell_type": "markdown",
   "metadata": {},
   "source": [
    "# 03 Types, type conversions and floating point arithmetic"
   ]
  },
  {
   "cell_type": "markdown",
   "metadata": {},
   "source": [
    "### Types"
   ]
  },
  {
   "cell_type": "code",
   "execution_count": 50,
   "metadata": {},
   "outputs": [
    {
     "name": "stdout",
     "output_type": "stream",
     "text": [
      "<class 'bool'>\n",
      "<class 'complex'>\n",
      "<class 'str'>\n"
     ]
    }
   ],
   "source": [
    "print(type(True))\n",
    "print(type(0.50 + 2j))\n",
    "print(type(\"This is a string\"))"
   ]
  },
  {
   "cell_type": "code",
   "execution_count": 51,
   "metadata": {},
   "outputs": [
    {
     "name": "stdout",
     "output_type": "stream",
     "text": [
      "-3.0 4.0 (4+3j) 5.0\n"
     ]
    }
   ],
   "source": [
    "b = 4-3J\n",
    "print(b.imag, b.real, b.conjugate(), abs(b))"
   ]
  },
  {
   "cell_type": "markdown",
   "metadata": {},
   "source": [
    "### Integer Overflow\n",
    "Gangnam style: $2^{31}$ views, YouTube switched from 32-bit to 64-bit integers to count views.<br>\n",
    "Boeing 787 Dreamliner: electricity shuts down if plane powered 248 days continuously ($2^{31} \\times 0.01$ seconds)"
   ]
  },
  {
   "cell_type": "code",
   "execution_count": 52,
   "metadata": {},
   "outputs": [
    {
     "name": "stdout",
     "output_type": "stream",
     "text": [
      "4\n",
      "37\n"
     ]
    }
   ],
   "source": [
    "a = 8\n",
    "print(a.bit_length())\n",
    "b = a**12\n",
    "print(b.bit_length()) #This would exceed 32 bits"
   ]
  },
  {
   "cell_type": "markdown",
   "metadata": {},
   "source": [
    "### Floating point storage\n",
    "$$\n",
    "10.45 = \\underbrace{+}_{\\text{sign}} \\underbrace{1045}_{\\text{significand}} \\times \\underbrace{10^{-2}}_{\\text{exponent} = -2}\n",
    "$$"
   ]
  },
  {
   "cell_type": "code",
   "execution_count": 53,
   "metadata": {},
   "outputs": [
    {
     "name": "stdout",
     "output_type": "stream",
     "text": [
      "x in 30 characters: \n",
      "0.100000000000000005551115123126\n",
      "0.10000000000000009\n",
      "0.10000000000000098\n",
      "0.10000000000001075\n",
      "0.10000000000011822\n",
      "0.10000000000130038\n",
      "0.1000000000143042\n",
      "0.10000000015734622\n",
      "0.10000000173080847\n",
      "0.10000001903889322\n",
      "0.10000020942782539\n",
      "0.10000230370607932\n",
      "0.10002534076687253\n",
      "0.10027874843559781\n",
      "0.1030662327915759\n",
      "0.13372856070733485\n",
      "0.4710141677806834\n",
      "4.181155845587517\n",
      "44.992714301462684\n",
      "493.9198573160895\n",
      "5432.118430476985\n"
     ]
    }
   ],
   "source": [
    "x = 0.1\n",
    "print('x in 30 characters: ')\n",
    "print('{0:.30f}'.format(x))\n",
    "for i in range(20):\n",
    "    x = x*11 - 1\n",
    "    print(x)\n",
    "# This is caused by the fact that 0.1 here is represented by a 64 bit binary approximation.\n",
    "# By default, Python uses 64 bits to store a float, but we can use numpy to create 32 bit floats and more."
   ]
  },
  {
   "cell_type": "markdown",
   "metadata": {},
   "source": [
    "Patriot Missle Failure: missle software multiplied counter by float representation of $0.1$ in 24 bits, and it lead to an error of $0.32\\,$s  after 100 hours of operation, and due to the high velocity of the missile it failed to intercept the incoming Scud."
   ]
  },
  {
   "cell_type": "code",
   "execution_count": 54,
   "metadata": {},
   "outputs": [
    {
     "name": "stdout",
     "output_type": "stream",
     "text": [
      "Time error after 100 hours using 16 bit float (s): 87.890625\n",
      "Time error after 100 hours using 32 bit float (s): 0.005364418029785156\n",
      "Time error after 100 hours using 64 bit float (s): 0.0\n"
     ]
    }
   ],
   "source": [
    "import numpy as np\n",
    "# Compute internal system counter after 100 hours (counter increments every 1/10 s)\n",
    "num_hours = 100\n",
    "num_seconds = num_hours*60*60\n",
    "system_counter = num_seconds*10  # system clock counter\n",
    "\n",
    "# Test with 16 bit float\n",
    "dt = np.float16(0.1)\n",
    "time = dt*system_counter\n",
    "print(\"Time error after 100 hours using 16 bit float (s):\", abs(time - num_seconds))\n",
    "\n",
    "# Test with 32 bit float\n",
    "dt = np.float32(0.1)\n",
    "time = dt*system_counter\n",
    "print(\"Time error after 100 hours using 32 bit float (s):\", abs(time - num_seconds))\n",
    "\n",
    "# Test with 64 bit float\n",
    "dt = np.float64(0.1)\n",
    "time = dt*system_counter\n",
    "print(\"Time error after 100 hours using 64 bit float (s):\", abs(time - num_seconds))"
   ]
  },
  {
   "cell_type": "markdown",
   "metadata": {},
   "source": [
    "# 04 Functions"
   ]
  },
  {
   "cell_type": "markdown",
   "metadata": {},
   "source": [
    "### Named arguments"
   ]
  },
  {
   "cell_type": "code",
   "execution_count": 55,
   "metadata": {},
   "outputs": [
    {
     "name": "stdout",
     "output_type": "stream",
     "text": [
      "-1\n",
      "-1\n"
     ]
    }
   ],
   "source": [
    "def subtract_and_increment(a, b):\n",
    "    \"Return a minus b, plus 1\"\n",
    "    return a - b + 1\n",
    "alpha, beta = 3, 5\n",
    "print(subtract_and_increment(a=alpha, b=beta))  # Expect -1\n",
    "print(subtract_and_increment(b=beta, a=alpha))  # Expect -1"
   ]
  },
  {
   "cell_type": "markdown",
   "metadata": {},
   "source": [
    "### Passing a function as a function argument"
   ]
  },
  {
   "cell_type": "code",
   "execution_count": 56,
   "metadata": {},
   "outputs": [
    {
     "name": "stdout",
     "output_type": "stream",
     "text": [
      "(False, -2)\n"
     ]
    }
   ],
   "source": [
    "def f_minus_10(x):\n",
    "    return x-10\n",
    "def is_positive(f, x):\n",
    "    \"Check if the function value f(x) is positive\"\n",
    "    # Evaluate the function passed into the function for the value of x \n",
    "    # passed into the function\n",
    "    if f(x) > 0:\n",
    "        return True, f(x)\n",
    "    else:\n",
    "        return False, f(x)\n",
    "print(is_positive(f_minus_10, 8))"
   ]
  },
  {
   "cell_type": "markdown",
   "metadata": {},
   "source": [
    "### Recursive Functions"
   ]
  },
  {
   "cell_type": "code",
   "execution_count": 57,
   "metadata": {},
   "outputs": [
    {
     "name": "stdout",
     "output_type": "stream",
     "text": [
      "55\n"
     ]
    }
   ],
   "source": [
    "def f(n): \n",
    "    \"Compute the nth Fibonacci number using recursion\"\n",
    "    if n == 0:\n",
    "        return 0  # This doesn't call f, so it breaks out of the recursion loop\n",
    "    elif n == 1:\n",
    "        return 1  # This doesn't call f, so it breaks out of the recursion loop\n",
    "    else:\n",
    "        return f(n - 1) + f(n - 2)  # This calls f for n-1 and n-2 (recursion), and returns the sum \n",
    "\n",
    "print(f(10))"
   ]
  },
  {
   "cell_type": "code",
   "execution_count": 58,
   "metadata": {},
   "outputs": [
    {
     "name": "stdout",
     "output_type": "stream",
     "text": [
      "4.0000001192092896 9.536743306171047e-07 23\n",
      "4.534070134162903 -7.047073751209609e-07 23\n",
      "True\n"
     ]
    }
   ],
   "source": [
    "\"My recursive function to compute a root\"\n",
    "\n",
    "def testf(x): # Test function with obvious roots 4 and -4\n",
    "    return x**2 - 16\n",
    "def my_f(x): # Function to be used\n",
    "    \"Evaluate polynomial function\"\n",
    "    return x**3 - 6*x**2 + 4*x + 12\n",
    "\n",
    "def compute_root(f, x0, x1, tol, max_it, it_count=0): # it_count initialized in the argument part of the def\n",
    "    \"Compute roots of a function using bisection, recusive function\"\n",
    "    # increment it_count\n",
    "    it_count += 1\n",
    "    \n",
    "    # bisection and reassigning boundary values\n",
    "    x_mid = (x0 + x1)/2\n",
    "    if f(x_mid)*f(x0) < 0:\n",
    "        x1 = x_mid\n",
    "    else:\n",
    "        x0 = x_mid\n",
    "    \n",
    "    # Break if error is under tolerance\n",
    "    error = abs(f(x_mid))\n",
    "    if error < tol:\n",
    "        return x_mid, f(x_mid), it_count\n",
    "    \n",
    "    # Break \n",
    "    if it_count >= max_it:\n",
    "        print(\"Maximum Iterations Reached - will show results with \", it_count, \" iterations.\")\n",
    "        return x_mid, f(x_mid), it_count\n",
    "    \n",
    "    # Call compute_root recursively\n",
    "    return compute_root(f, x0, x1, tol, max_it, it_count)\n",
    "\n",
    "# Testing my code with the testf (root is 4 and -4) and my_f\n",
    "x, f, num_it = compute_root(testf, x0=3, x1=6, tol=1.0e-6, max_it=1000)\n",
    "print(x, f, num_it)\n",
    "x, f, num_it = compute_root(my_f, x0=3, x1=6, tol=1.0e-6, max_it=1000)\n",
    "print(x, f, num_it)\n",
    "print( round(x - 4.534070134162903, 10) == 0.0)"
   ]
  },
  {
   "cell_type": "markdown",
   "metadata": {},
   "source": [
    "# Library functions"
   ]
  },
  {
   "cell_type": "code",
   "execution_count": 59,
   "metadata": {},
   "outputs": [
    {
     "name": "stdout",
     "output_type": "stream",
     "text": [
      "1.4142135623730951\n"
     ]
    }
   ],
   "source": [
    "import math\n",
    "\n",
    "x = 2.0\n",
    "x = math.sqrt(x)\n",
    "print(x)"
   ]
  },
  {
   "cell_type": "code",
   "execution_count": 60,
   "metadata": {},
   "outputs": [
    {
     "name": "stdout",
     "output_type": "stream",
     "text": [
      "1.4142135623730951\n"
     ]
    }
   ],
   "source": [
    "from math import sqrt as square_root\n",
    "\n",
    "x = 2.0\n",
    "x = square_root(x)\n",
    "print(x)"
   ]
  },
  {
   "cell_type": "markdown",
   "metadata": {},
   "source": [
    "### String Formatting"
   ]
  },
  {
   "cell_type": "code",
   "execution_count": 61,
   "metadata": {},
   "outputs": [
    {
     "name": "stdout",
     "output_type": "stream",
     "text": [
      "3.141592653589793\n",
      "3.1415927\n",
      "3.14159265358979311600e+00\n"
     ]
    }
   ],
   "source": [
    "import math\n",
    "print(\"{}\".format(math.pi))\n",
    "print(\"{:.8}\".format(math.pi))\n",
    "print(\"{:.20e}\".format(math.pi))"
   ]
  },
  {
   "cell_type": "markdown",
   "metadata": {},
   "source": [
    "A very nice compression exercise: [05 Exercises](http://localhost:8888/notebooks/Documents/GitHub/PartIA-Computing-Michaelmas/Exercises/05%20Exercises.ipynb)"
   ]
  },
  {
   "cell_type": "markdown",
   "metadata": {},
   "source": [
    "Failed - [Sorting Example](\"05%20Library%20functions.ipynb\")"
   ]
  },
  {
   "cell_type": "markdown",
   "metadata": {},
   "source": [
    "# 06 Data structures"
   ]
  },
  {
   "cell_type": "code",
   "execution_count": 62,
   "metadata": {},
   "outputs": [
    {
     "name": "stdout",
     "output_type": "stream",
     "text": [
      "[['Sarah', 'John', 'Joe', 'Emily'], ['Roger', 'Rachel', 'Amer', 'Caroline', 'Colin']]\n",
      "['Sarah', 'John', 'Joe', 'Emily', 'Roger', 'Rachel', 'Amer', 'Caroline', 'Colin']\n"
     ]
    }
   ],
   "source": [
    "lab_group0 = [\"Sarah\", \"John\", \"Joe\", \"Emily\"]\n",
    "lab_group1 = [\"Roger\", \"Rachel\", \"Amer\", \"Caroline\", \"Colin\"]\n",
    "print([lab_group0, lab_group1])\n",
    "print(lab_group0 + lab_group1)"
   ]
  },
  {
   "cell_type": "code",
   "execution_count": 63,
   "metadata": {},
   "outputs": [
    {
     "name": "stdout",
     "output_type": "stream",
     "text": [
      "Sarah\n",
      "John\n",
      "Joe\n",
      "Emily\n",
      "----\n",
      "0 Sarah\n",
      "1 John\n",
      "2 Joe\n",
      "3 Emily\n"
     ]
    }
   ],
   "source": [
    "lab_group0 = [\"Sarah\", \"John\", \"Joe\", \"Emily\"]\n",
    "for member in lab_group0:\n",
    "    print(member)\n",
    "print(\"----\")\n",
    "for n, member in enumerate(lab_group0):\n",
    "    print(n, member)"
   ]
  },
  {
   "cell_type": "code",
   "execution_count": 64,
   "metadata": {},
   "outputs": [
    {
     "name": "stdout",
     "output_type": "stream",
     "text": [
      "['Sarah', 'Joe', 'Emily']\n",
      "['Sarah', 'Joe', 'Emily', 'Josephine']\n"
     ]
    }
   ],
   "source": [
    "lab_group0 = [\"Sarah\", \"John\", \"Joe\", \"Emily\"]\n",
    "\n",
    "# Remove the second student (indexing starts from 0, so 1 is the second element)\n",
    "lab_group0.pop(1)\n",
    "print(lab_group0)\n",
    "\n",
    "# Add new student \"Josephine\" at the end of the list\n",
    "lab_group0.append(\"Josephine\")\n",
    "print(lab_group0)"
   ]
  },
  {
   "cell_type": "code",
   "execution_count": 65,
   "metadata": {},
   "outputs": [
    {
     "name": "stdout",
     "output_type": "stream",
     "text": [
      "Sarah\n",
      "John\n",
      "Joe\n",
      "Emily\n"
     ]
    }
   ],
   "source": [
    "lab_group0 = [\"Sarah\", \"John\", \"Joe\", \"Emily\"]\n",
    "for i in range(len(lab_group0)):\n",
    "    print(lab_group0[i])"
   ]
  },
  {
   "cell_type": "code",
   "execution_count": 66,
   "metadata": {},
   "outputs": [
    {
     "name": "stdout",
     "output_type": "stream",
     "text": [
      "['Emily', 'Joe', 'John', 'Sarah']\n",
      "----\n",
      "['Sarah', 'John', 'Joe', 'Emily']\n",
      "['Emily', 'Joe', 'John', 'Sarah']\n"
     ]
    }
   ],
   "source": [
    "lab_group0 = [\"Sarah\", \"John\", \"Joe\", \"Emily\"]\n",
    "lab_group0.sort()\n",
    "print(lab_group0)\n",
    "\n",
    "print(\"----\")\n",
    "\n",
    "lab_group0 = [\"Sarah\", \"John\", \"Joe\", \"Emily\"]\n",
    "sorted_lab_group0 = sorted(lab_group0)\n",
    "print(lab_group0)\n",
    "print(sorted_lab_group0)"
   ]
  },
  {
   "cell_type": "markdown",
   "metadata": {},
   "source": [
    "### List Comprehension\n",
    "(Basically shortcut)"
   ]
  },
  {
   "cell_type": "code",
   "execution_count": 67,
   "metadata": {},
   "outputs": [
    {
     "name": "stdout",
     "output_type": "stream",
     "text": [
      "['Rachel.', 'Caroline.']\n"
     ]
    }
   ],
   "source": [
    "lab_group1 = [\"Roger\", \"Rachel\", \"Amer\", \"Caroline\", \"Colin\"]\n",
    "group = [name + \".\" for name in lab_group1 if len(name) > 5]\n",
    "print(group)"
   ]
  },
  {
   "cell_type": "code",
   "execution_count": 68,
   "metadata": {},
   "outputs": [
    {
     "name": "stdout",
     "output_type": "stream",
     "text": [
      "[-2, 11.3, -20, 8]\n",
      "[(0, -2), (4.3, 7), (-5, -15), (7, 1)]\n",
      "[-2, 11.3, -20, 8]\n"
     ]
    }
   ],
   "source": [
    "\"Finding the sum vector of a and b\"\n",
    "a = [0, 4.3, -5, 7]\n",
    "b = [-2, 7, -15, 1]\n",
    "print( [a[i] + b[i] for i in range(len(a))] ) # the first method that came to my mind\n",
    "# OR\n",
    "print(list(zip(a,b))) # To show what list(zip(a,b)) really is\n",
    "print( [x+y for x,y in list(zip(a,b))] )"
   ]
  },
  {
   "cell_type": "markdown",
   "metadata": {},
   "source": [
    "### Dictionaries and operations"
   ]
  },
  {
   "cell_type": "code",
   "execution_count": 69,
   "metadata": {},
   "outputs": [
    {
     "name": "stdout",
     "output_type": "stream",
     "text": [
      "{\"St Catharine's\": 'CTH', \"Christ's\": 'CHR', 'Churchill': 'CHU', 'Clare': 'CL', 'Clare Hall': 'CLH', 'Corpus Christi': 'CC'} \n",
      "\n",
      "Dictionary from college abbrev to name:\n",
      " {'CTH': \"St Catharine's\", 'CHR': \"Christ's\", 'CHU': 'Churchill', 'CL': 'Clare', 'CLH': 'Clare Hall', 'CC': 'Corpus Christi'}\n",
      "\n",
      "Sorted abbreviation list:\n",
      " ['CC', 'CHR', 'CHU', 'CL', 'CLH', 'CTH']\n"
     ]
    }
   ],
   "source": [
    "names_to_abbrev = {'St Catharine\\'s': 'CTH',\n",
    "                   'Christ\\'s': 'CHR', \n",
    "                   'Churchill': 'CHU', \n",
    "                   'Clare':'CL', \n",
    "                   'Clare Hall':'CLH', \n",
    "                   'Corpus Christi': 'CC'}\n",
    "print(names_to_abbrev, '\\n') # Testing this list\n",
    "\n",
    "\"Inversing the list\"\n",
    "abbrev_to_names = {}\n",
    "for name, abbrev in names_to_abbrev.items(): # .items() gets both key and value\n",
    "    abbrev_to_names[abbrev] = name\n",
    "print('Dictionary from college abbrev to name:\\n', abbrev_to_names)\n",
    "    \n",
    "\"Sorting the abbreviation list\"\n",
    "abbrev_list = [abbrev for abbrev in abbrev_to_names] # List comprehension\n",
    "abbrev_list.sort()\n",
    "print('\\nSorted abbreviation list:\\n', abbrev_list)"
   ]
  },
  {
   "cell_type": "code",
   "execution_count": 70,
   "metadata": {},
   "outputs": [],
   "source": [
    "# One key can have more than 1 value using a list or tuple:\n",
    "cambridge_colleges = {'St Catharine\\'s': ('CTH', 1473, 768),\n",
    "                   'Christ\\'s': ('CHR', 1505, 689), \n",
    "                   'Churchill': ('CHU', 1960, 845), \n",
    "                   'Clare': ('CL', 1326, 808), \n",
    "                   'Clare Hall': ('CLH', 1966, 249), \n",
    "                   'Corpus Christi': ('CL', 1352, 553)}"
   ]
  },
  {
   "cell_type": "code",
   "execution_count": 71,
   "metadata": {},
   "outputs": [
    {
     "name": "stdout",
     "output_type": "stream",
     "text": [
      "value_1\n",
      "value_2\n"
     ]
    }
   ],
   "source": [
    "# This is method two found online: dictionary within dictionary\n",
    "my_dict = {\n",
    "\t\"my_key\": {\n",
    "\t\t\"key_1\": 'value_1', \n",
    "\t\t\"key_2\": 'value_2'\n",
    "\t}\n",
    "}\n",
    "print (my_dict[\"my_key\"][\"key_1\"])  # This will print value_1\n",
    "print (my_dict[\"my_key\"][\"key_2\"])  # This will print value_2"
   ]
  },
  {
   "cell_type": "markdown",
   "metadata": {},
   "source": [
    "# 07 Numerical computation"
   ]
  },
  {
   "cell_type": "markdown",
   "metadata": {},
   "source": [
    "### NumPy 1D Arrays"
   ]
  },
  {
   "cell_type": "code",
   "execution_count": 29,
   "metadata": {},
   "outputs": [
    {
     "name": "stdout",
     "output_type": "stream",
     "text": [
      "[0. 0. 0. 0. 0. 0.]\n",
      "[1. 1. 1. 1. 1. 1. 1. 1. 1. 1.]\n",
      "[0.84314081 0.0397491  0.61188414]\n",
      "[2 3 4 5 6 7 8 9]\n",
      "[2 3 4 5 6 7 8 9]\n",
      "[  0.  20.  40.  60.  80. 100.]\n"
     ]
    }
   ],
   "source": [
    "import numpy as np\n",
    "\n",
    "print(np.zeros(6))\n",
    "print(np.ones(10))\n",
    "print(np.random.rand(3))\n",
    "\n",
    "print(np.arange(2,10))       # It is Array RANGE hence arange\n",
    "print(np.array(range(2,10))) # Same thing as above\n",
    "\n",
    "\n",
    "print(np.linspace(0,100,6))  # Used extensively for plotting"
   ]
  },
  {
   "cell_type": "code",
   "execution_count": 30,
   "metadata": {},
   "outputs": [
    {
     "name": "stdout",
     "output_type": "stream",
     "text": [
      "[0. 0. 0. 0. 0. 0.]\n",
      "<class 'numpy.ndarray'>\n",
      "6\n",
      "float64\n",
      "(6,)\n"
     ]
    }
   ],
   "source": [
    "x = np.zeros(6)\n",
    "\n",
    "print(x)\n",
    "print(type(x))\n",
    "print(len(x))\n",
    "print(x.dtype) # Dimensional Type (of the values)\n",
    "print(x.shape) # Shape - axbxc matrice gives (a,b,c)"
   ]
  },
  {
   "cell_type": "code",
   "execution_count": 31,
   "metadata": {},
   "outputs": [
    {
     "name": "stdout",
     "output_type": "stream",
     "text": [
      "[10.  0.  0.  0.  0.  5.]\n"
     ]
    }
   ],
   "source": [
    "\"Indexing - same as python lists\"\n",
    "x[0] = 10\n",
    "x[5] = 5\n",
    "print(x)"
   ]
  },
  {
   "cell_type": "code",
   "execution_count": 32,
   "metadata": {},
   "outputs": [
    {
     "name": "stdout",
     "output_type": "stream",
     "text": [
      "[ 4.  8.  9. 11. -2.]\n"
     ]
    }
   ],
   "source": [
    "\"NumPy array from python list\"\n",
    "x = [4.0, 8.0, 9.0, 11.0, -2.0]\n",
    "y = np.array(x)\n",
    "print(y)"
   ]
  },
  {
   "cell_type": "markdown",
   "metadata": {},
   "source": [
    "### Arithmetic"
   ]
  },
  {
   "cell_type": "code",
   "execution_count": 47,
   "metadata": {},
   "outputs": [
    {
     "name": "stdout",
     "output_type": "stream",
     "text": [
      "[1 2 4]\n",
      "[0.         1.57079633 3.14159265] \n",
      "\n",
      "[1.         3.57079633 7.14159265]\n",
      "[ 0.          3.14159265 12.56637061]\n",
      "[2 4 8]\n",
      "[ 1  4 16] \n",
      "\n",
      "[0.0000000e+00 1.0000000e+00 1.2246468e-16]\n"
     ]
    }
   ],
   "source": [
    "x = np.array([1, 2, 4])\n",
    "y = np.array([0, np.pi/2, np.pi])\n",
    "print(x)\n",
    "print(y, \"\\n\")\n",
    "\n",
    "print(x + y)\n",
    "print(x * y)\n",
    "print(x * 2)\n",
    "print(x ** 2, \"\\n\")\n",
    "\n",
    "print(np.sin(y)) # Not math.sin though"
   ]
  }
 ],
 "metadata": {
  "kernelspec": {
   "display_name": "Python 3",
   "language": "python",
   "name": "python3"
  },
  "language_info": {
   "codemirror_mode": {
    "name": "ipython",
    "version": 3
   },
   "file_extension": ".py",
   "mimetype": "text/x-python",
   "name": "python",
   "nbconvert_exporter": "python",
   "pygments_lexer": "ipython3",
   "version": "3.7.6"
  }
 },
 "nbformat": 4,
 "nbformat_minor": 4
}
