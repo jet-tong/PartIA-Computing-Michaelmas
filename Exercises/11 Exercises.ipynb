{
 "cells": [
  {
   "cell_type": "markdown",
   "metadata": {},
   "source": [
    "Import the modules that will be used."
   ]
  },
  {
   "cell_type": "code",
   "execution_count": 1,
   "metadata": {},
   "outputs": [],
   "source": [
    "import numpy as np\n",
    "import matplotlib\n",
    "import matplotlib.pyplot as plt\n",
    "\n",
    "%matplotlib inline"
   ]
  },
  {
   "cell_type": "markdown",
   "metadata": {
    "deletable": false,
    "editable": false,
    "nbgrader": {
     "cell_type": "markdown",
     "checksum": "1edc226b40602fb86b89bc96c778bd2e",
     "grade": false,
     "grade_id": "cell-f3291e5d760308db",
     "locked": true,
     "schema_version": 3,
     "solution": false
    }
   },
   "source": [
    "## Exercise 11.1\n",
    "\n",
    "Determine by counting the number of mathematical operations the complexity of:\n",
    "\n",
    "1. Dot product between two vectors\n",
    "1. Matrix-vector product\n",
    "1. Matrix-matrix product\n",
    "\n",
    "for vectors of length $n$ and matrices of size $n \\times n$.\n",
    "\n",
    "This is a reasoning exercise - you do not need to write a program. Express your answers in text and using LaTeX in a Markdown cell.\n",
    "\n",
    "\n",
    "### Optional\n",
    "\n",
    "Test the complexity experimentally with your own functions for performing the operations, and\n",
    "with the NumPy 'vectorised' equivalents."
   ]
  },
  {
   "cell_type": "markdown",
   "metadata": {
    "deletable": false,
    "nbgrader": {
     "cell_type": "markdown",
     "checksum": "62a921e42154198d66dc82641af170e2",
     "grade": true,
     "grade_id": "cell-8460df1e09d7f0e7",
     "locked": false,
     "points": 0,
     "schema_version": 3,
     "solution": true
    }
   },
   "source": [
    "$\\textit{ANSWER HERE}:$\n",
    "\n",
    "Dot product between two vectors: <br>\n",
    "- for loop: $O(n)$;  <br>\n",
    "- multiplying: $O(1)$ <br>\n",
    "- Overall: $O(n)$ <br>\n",
    "\n",
    "Matrix-vector product: <br>\n",
    "- for loop: $O(n \\times n) = O(n^2)$ <br>\n",
    "- multiplying: $O(1)$ <br>\n",
    "- Overall: $O(n^2)$ <br>\n",
    "\n",
    "Matrix-matrix product: <br>\n",
    "- for loop: $O(n \\times n) = O(n^2)$ <br>\n",
    "- loop for adding elements: $O(n)$ <br>\n",
    "- multiplying: $O(1)$ <br>\n",
    "- Overall: $O(n^3)$ <br>\n"
   ]
  },
  {
   "cell_type": "code",
   "execution_count": 90,
   "metadata": {},
   "outputs": [],
   "source": [
    "\"My own functions of vv/vm/mm multiplication\"\n",
    "\n",
    "def vv_dot(x,y):\n",
    "    z = 0\n",
    "    if len(x) != len(y):\n",
    "        raise ValueError(\"Cannot multiply vector of dimension {} with vector of dimension {}\".format(len(x), len(y)))\n",
    "    for i in range(len(x)):\n",
    "        z += x[i]*y[i]\n",
    "    return z\n",
    "\n",
    "def mv_dot(m,v):\n",
    "    z = []\n",
    "    if len(m[0]) != len(v):\n",
    "        raise ValueError(\"Incorrect dimensions\")\n",
    "    for i in range(len(m)):\n",
    "        n = 0\n",
    "        for j in range(len(v)):\n",
    "            n += m[i][j] * v[j]\n",
    "        z.append(n)\n",
    "    return z\n",
    "            \n",
    "def mm_dot(x,y):\n",
    "    z = np.zeros([len(x), len(y[0])])\n",
    "    if len(x[0]) != len(y):\n",
    "        raise ValueError(\"Incorrect dimensions\")\n",
    "    for i in range(len(x)):\n",
    "        for j in range(len(y[0])):\n",
    "            for k in range(len(y)):\n",
    "                z[i][j] += x[i][k]*y[k][j]\n",
    "    return z"
   ]
  },
  {
   "cell_type": "code",
   "execution_count": 107,
   "metadata": {},
   "outputs": [],
   "source": [
    "\"Testing the above functions\"\n",
    "import pytest\n",
    "\n",
    "# vv_dot - tests for valid and invalid cases\n",
    "assert vv_dot([2,3,4], [3,4,5]) == 6+12+20\n",
    "with pytest.raises(ValueError):\n",
    "    vv_dot([2,3,4], [3,4])\n",
    "\n",
    "# mv_dot - tests for valid and invalid cases\n",
    "assert mv_dot([[1,1],[1,1]], [2,3])\n",
    "with pytest.raises(ValueError):\n",
    "    vv_dot(([2,3],[2,4]), [3,4,5])\n",
    "\n",
    "# mm_dot - tests for valid and invalid cases\n",
    "assert np.all( mm_dot(([1,0],[0,1]),([1,0],[0,1])) == [[1, 0],[0, 1]] )\n",
    "assert np.all( mm_dot(([2,0],[0,2]),([0,1,1,0],[0,0,1,1])) == ([0,2,2,0],[0,0,2,2]) )\n",
    "with pytest.raises(TypeError):\n",
    "    mm_dot([2,3,4], [3,4,5])\n",
    "with pytest.raises(TypeError):\n",
    "    mm_dot([[1,1],[1,1]], [2,3])\n",
    "\n",
    "# Making sure my implementations are the same as numpy's implementations of the products\n",
    "assert np.all(vv_dot([2,3,4], [3,4,5]) == np.dot([2,3,4], [3,4,5]))\n",
    "assert np.all(mv_dot(([2,3],[2,4]),[3,4]) == np.dot(([2,3],[2,4]),[3,4]))\n",
    "assert np.all(mm_dot(([2,0],[0,2]),([0,1,1,0],[0,0,1,1])) == np.dot(([2,0],[0,2]),([0,1,1,0],[0,0,1,1])) )"
   ]
  },
  {
   "cell_type": "code",
   "execution_count": 124,
   "metadata": {},
   "outputs": [],
   "source": [
    "\"Timing all the times\"\n",
    "# Create array of problem sizes we want to test (powers of 2)\n",
    "N = 2**np.arange(2, 7)\n",
    " \n",
    "# Create an array of random numbers\n",
    "v1 = np.random.rand(N[-1])\n",
    "v2 = np.random.rand(N[-1])\n",
    "m1 = np.random.rand(N[-1],N[-1])\n",
    "m2 = np.random.rand(N[-1],N[-1])\n",
    "\n",
    "# Time the different implementations\n",
    "mvv_times = []\n",
    "mmv_times = []\n",
    "mmm_times = []\n",
    "pvv_times = []\n",
    "pmv_times = []\n",
    "pmm_times = []\n",
    "for n in N:\n",
    "    # Time my vector-vector product\n",
    "    t = %timeit -n3 -q -o vv_dot(v1[:n],v2[:n])\n",
    "    mvv_times.append(t.best)\n",
    "    \n",
    "    # Time my matrix-vector product\n",
    "    t = %timeit -n3 -q -o mv_dot(m1[:n, :n], v1[:n])\n",
    "    mmv_times.append(t.best)\n",
    "\n",
    "    # Time my matrix-matrix product\n",
    "    t = %timeit -n3 -q -o mm_dot(m1[:n, :n], m2[:n, :n])\n",
    "    mmm_times.append(t.best)\n",
    "    \n",
    "    # Time python's vector-vector product\n",
    "    t = %timeit -n3 -q -o np.dot(v1[:n],v2[:n])\n",
    "    pvv_times.append(t.best)\n",
    "    \n",
    "    # Time python's matrix-vector product\n",
    "    t = %timeit -n3 -q -o np.dot(m1[:n, :n], v1[:n])\n",
    "    pmv_times.append(t.best)\n",
    "\n",
    "    # Time python's matrix-matrix product\n",
    "    t = %timeit -n3 -q -o np.dot(m1[:n, :n], m2[:n, :n])\n",
    "    pmm_times.append(t.best)"
   ]
  },
  {
   "cell_type": "code",
   "execution_count": 125,
   "metadata": {},
   "outputs": [
    {
     "data": {
      "image/png": "[encoded data removed]",
      "text/plain": [
       "<Figure size 432x288 with 1 Axes>"
      ]
     },
     "metadata": {
      "needs_background": "light"
     },
     "output_type": "display_data"
    }
   ],
   "source": [
    "# Plot time taken for my implementations\n",
    "plt.loglog(N, mvv_times, marker='o', label='My vv')\n",
    "plt.loglog(N, mmv_times, marker='o', label='My mv')\n",
    "plt.loglog(N, mmm_times, marker='o', label='My mm')\n",
    "\n",
    "# Show reference line of O(n) and O(n^2)\n",
    "plt.loglog(N, 1.0e-6*N, '--', label=r'$O(n)$')\n",
    "plt.loglog(N, 1.0e-6*N**2, '--',  label=r'$O(n^2)$')\n",
    "plt.loglog(N, 1.0e-6*N**3, '--',  label=r'$O(n^3)$')\n",
    "\n",
    "# Add labels and legend\n",
    "plt.xlabel('$n$')\n",
    "plt.ylabel('$t$ (s)')\n",
    "plt.legend(loc=0)\n",
    "\n",
    "plt.show()"
   ]
  },
  {
   "cell_type": "code",
   "execution_count": 127,
   "metadata": {},
   "outputs": [
    {
     "data": {
      "image/png": "[encoded data removed]",
      "text/plain": [
       "<Figure size 432x288 with 1 Axes>"
      ]
     },
     "metadata": {
      "needs_background": "light"
     },
     "output_type": "display_data"
    }
   ],
   "source": [
    "# Plot time taken for numpy's implementations\n",
    "plt.loglog(N, pvv_times, marker='o', label='NumPy vv')\n",
    "plt.loglog(N, pmv_times, marker='o', label='NumPy mv')\n",
    "plt.loglog(N, pmm_times, marker='o', label='NumPy mm')\n",
    "\n",
    "# Plot time taken for my implementations\n",
    "#plt.loglog(N, mvv_times, marker='o', label='My vv')\n",
    "#plt.loglog(N, mmv_times, marker='o', label='My mv')\n",
    "#plt.loglog(N, mmm_times, marker='o', label='My mm')\n",
    "\n",
    "# Show reference line of O(n) and O(n^2)\n",
    "#plt.loglog(N, 1.0e-6*N, '--', label=r'$O(n)$')\n",
    "#plt.loglog(N, 1.0e-6*N**2, '--',  label=r'$O(n^2)$')\n",
    "#plt.loglog(N, 1.0e-6*N**3, '--',  label=r'$O(n^3)$')\n",
    "\n",
    "# Add labels and legend\n",
    "plt.xlabel('$n$')\n",
    "plt.ylabel('$t$ (s)')\n",
    "plt.legend(loc='upper left')\n",
    "\n",
    "plt.show()"
   ]
  },
  {
   "cell_type": "markdown",
   "metadata": {},
   "source": [
    "## Exercise 11.2\n",
    "\n",
    "For the recursive factorial algorithm in Activity 04, determine the algorithmic complexity by inspecting your implementation of the algorithm. Test this against numerical experiments."
   ]
  },
  {
   "cell_type": "markdown",
   "metadata": {},
   "source": [
    "### Solution"
   ]
  },
  {
   "cell_type": "markdown",
   "metadata": {},
   "source": [
    "Recall the factorial algorithm from Activity 04.4:"
   ]
  },
  {
   "cell_type": "code",
   "execution_count": 153,
   "metadata": {},
   "outputs": [],
   "source": [
    "def factorial(n):\n",
    "    if n == 0:\n",
    "        return 1\n",
    "    else:\n",
    "        return factorial(n - 1)*n"
   ]
  },
  {
   "cell_type": "markdown",
   "metadata": {},
   "source": [
    "The function calls itself (recursively) $n$ times, hence it has complexity $O(n)$. We test this below and plot\n",
    "the times."
   ]
  },
  {
   "cell_type": "code",
   "execution_count": 154,
   "metadata": {
    "deletable": false,
    "nbgrader": {
     "cell_type": "code",
     "checksum": "ac9c61aee9ad5e1348d3b3892814724e",
     "grade": false,
     "grade_id": "cell-99456b1178be2bfe",
     "locked": false,
     "schema_version": 3,
     "solution": true
    }
   },
   "outputs": [],
   "source": [
    "# YOUR CODE HERE\n",
    "\n",
    "N = np.arange(2,13)\n",
    "\n",
    "factorial_times = []\n",
    "\n",
    "for n in N:\n",
    "    t = %timeit -n3 -q -o factorial(n)\n",
    "    factorial_times.append(t.best)"
   ]
  },
  {
   "cell_type": "code",
   "execution_count": 155,
   "metadata": {},
   "outputs": [
    {
     "data": {
      "image/png": "[encoded data removed]",
      "text/plain": [
       "<Figure size 432x288 with 1 Axes>"
      ]
     },
     "metadata": {
      "needs_background": "light"
     },
     "output_type": "display_data"
    }
   ],
   "source": [
    "plt.plot(N,factorial_times,'-or', label = 'factorial of x')\n",
    "plt.plot(N, 5e-7*N, '--', label = '$O(n)$')\n",
    "\n",
    "plt.xlabel('$x$')\n",
    "plt.ylabel('Time to compute $x!$')\n",
    "\n",
    "plt.legend(loc=0)\n",
    "\n",
    "plt.show()"
   ]
  },
  {
   "cell_type": "markdown",
   "metadata": {},
   "source": [
    "## Exercise 11.3\n",
    "\n",
    "Determine experimentally the complexity of computing the determinant of a matrix. You can generate an $n \\times n$ matrix using:"
   ]
  },
  {
   "cell_type": "code",
   "execution_count": 156,
   "metadata": {},
   "outputs": [],
   "source": [
    "n = 100\n",
    "A = np.random.rand(n, n)"
   ]
  },
  {
   "cell_type": "markdown",
   "metadata": {},
   "source": [
    "and the determinant can be computed by:"
   ]
  },
  {
   "cell_type": "code",
   "execution_count": 157,
   "metadata": {},
   "outputs": [],
   "source": [
    "det = np.linalg.slogdet(A)"
   ]
  },
  {
   "cell_type": "markdown",
   "metadata": {},
   "source": [
    "Be sure that you test for sufficiently large $n$ to get into the 'large' $n$ regime."
   ]
  },
  {
   "cell_type": "markdown",
   "metadata": {},
   "source": [
    "### Solution"
   ]
  },
  {
   "cell_type": "markdown",
   "metadata": {},
   "source": [
    "Time computation of determinant:"
   ]
  },
  {
   "cell_type": "code",
   "execution_count": 184,
   "metadata": {
    "deletable": false,
    "nbgrader": {
     "cell_type": "code",
     "checksum": "0b0d621ce3dc60bcd922f628646b0329",
     "grade": false,
     "grade_id": "cell-64f74c9716976d38",
     "locked": false,
     "schema_version": 3,
     "solution": true
    }
   },
   "outputs": [],
   "source": [
    "# Create array of problem sizes we want to test (powers of 2)\n",
    "N = 2**np.arange(2, 14)\n",
    " \n",
    "# YOUR CODE HERE\n",
    "x = np.random.rand(N[-1],N[-1])\n",
    "\n",
    "det_times = []\n",
    "for n in N:\n",
    "    t = %timeit -n3 -q -o np.linalg.slogdet(x[:n,:n])\n",
    "    det_times.append(t.best)"
   ]
  },
  {
   "cell_type": "markdown",
   "metadata": {},
   "source": [
    "Plot result:"
   ]
  },
  {
   "cell_type": "code",
   "execution_count": 195,
   "metadata": {
    "deletable": false,
    "nbgrader": {
     "cell_type": "code",
     "checksum": "3f6362a9a7dc358b5987cd42aff7d063",
     "grade": false,
     "grade_id": "cell-4e4b2cc52b08f077",
     "locked": false,
     "schema_version": 3,
     "solution": true
    }
   },
   "outputs": [
    {
     "data": {
      "image/png": "[encoded data removed]",
      "text/plain": [
       "<Figure size 432x288 with 1 Axes>"
      ]
     },
     "metadata": {
      "needs_background": "light"
     },
     "output_type": "display_data"
    }
   ],
   "source": [
    "# YOUR CODE HERE\n",
    "\n",
    "plt.loglog(N[-6:],det_times[-6:],marker = 'o', label = 'Time to compute det(x)')\n",
    "plt.loglog(N[-6:],1.6e-9*N[-6:]**2.373, '--', label = '$O(n^{2.373})$')\n",
    "\n",
    "plt.legend(loc=0)\n",
    "plt.show()"
   ]
  }
 ],
 "metadata": {
  "kernelspec": {
   "display_name": "Python 3",
   "language": "python",
   "name": "python3"
  },
  "language_info": {
   "codemirror_mode": {
    "name": "ipython",
    "version": 3
   },
   "file_extension": ".py",
   "mimetype": "text/x-python",
   "name": "python",
   "nbconvert_exporter": "python",
   "pygments_lexer": "ipython3",
   "version": "3.7.6"
  }
 },
 "nbformat": 4,
 "nbformat_minor": 4
}
