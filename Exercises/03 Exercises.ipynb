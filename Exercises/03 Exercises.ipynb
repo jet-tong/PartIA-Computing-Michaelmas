{
 "cells": [
  {
   "cell_type": "markdown",
   "metadata": {
    "deletable": false,
    "editable": false,
    "nbgrader": {
     "cell_type": "markdown",
     "checksum": "8ceeabcb46de5ad626384fc60e218d16",
     "grade": false,
     "grade_id": "cell-bccc9a5624d0e0f9",
     "locked": true,
     "schema_version": 3,
     "solution": false
    }
   },
   "source": [
    "## Exercise 03.1\n",
    "\n",
    "Compare the computed values of \n",
    "\n",
    "$$ \n",
    "d_0 = a \\cdot b + a  \\cdot  c\n",
    "$$\n",
    "\n",
    "and \n",
    "\n",
    "$$ \n",
    "d_1 = a \\cdot (b + c)\n",
    "$$\n",
    "\n",
    "when $a = 100$, $b = 0.1$ and $c = 0.2$. Store $d_{0}$ in the variable `d0` and $d_{1}$ in the variable `d1`.\n",
    "\n",
    "\n",
    "Try checking for equality, e.g. `print(d0 == d1)`. "
   ]
  },
  {
   "cell_type": "code",
   "execution_count": 10,
   "metadata": {
    "deletable": false,
    "nbgrader": {
     "cell_type": "code",
     "checksum": "30e30b82e08f44a2f3f834314203be69",
     "grade": false,
     "grade_id": "cell-447110c225124fc4",
     "locked": false,
     "schema_version": 3,
     "solution": true
    }
   },
   "outputs": [
    {
     "name": "stdout",
     "output_type": "stream",
     "text": [
      "False\n",
      "3.552713678800501e-15\n",
      "16 bit error:\n",
      "-0.01220703125\n",
      "32 bit error:\n",
      "7.450580596923828e-07\n"
     ]
    }
   ],
   "source": [
    "# YOUR CODE HERE\n",
    "\n",
    "import numpy as np\n",
    "\n",
    "a = 100\n",
    "b = 0.1\n",
    "c = 0.2\n",
    "\n",
    "d0 = a*b + a*c\n",
    "d1 = a*(b+c)\n",
    "\n",
    "print(d0 == d1)\n",
    "print(d1 - d0)\n",
    "# This is because the binary approximation of 0.3 is difference of the sum of that of 0.1 and 0.2, \n",
    "# in python's 64bit float system\n",
    "# We can try 32 bit and 16 bit to see the results\n",
    "b = np.float16(0.1)\n",
    "c = np.float16(0.2)\n",
    "d0 = a*b + a*c\n",
    "d1 = a*(b+c)\n",
    "print(\"16 bit error:\")\n",
    "print(d1 - d0)\n",
    "\n",
    "b = np.float32(0.1)\n",
    "c = np.float32(0.2)\n",
    "d0 = a*b + a*c\n",
    "d1 = a*(b+c)\n",
    "print(\"32 bit error:\")\n",
    "print(d1 - d0)"
   ]
  },
  {
   "cell_type": "code",
   "execution_count": 3,
   "metadata": {
    "deletable": false,
    "editable": false,
    "nbgrader": {
     "cell_type": "code",
     "checksum": "56a58c181d43d8dbad56dff6ed45377a",
     "grade": true,
     "grade_id": "cell-91f2d89d88ea86c0",
     "locked": true,
     "points": 0,
     "schema_version": 3,
     "solution": false
    }
   },
   "outputs": [],
   "source": [
    "assert d0 == 30.0\n",
    "assert d1 != 30.0\n",
    "assert d0 != d1"
   ]
  },
  {
   "cell_type": "markdown",
   "metadata": {},
   "source": [
    "## Exercise 03.2\n",
    "\n",
    "For the polynomial \n",
    "\\begin{align}\n",
    "f(x, y) &= (x + y)^{6} \n",
    "\\\\\n",
    "&=  x^6 + 6x^{5}y + 15x^{4}y^{2} + 20x^{3}y^{3} + 15x^{2}y^{4} + 6xy^{5} + y^{6}\n",
    "\\end{align}\n",
    "compute $f$ using: (i) the compact form $(x + y)^{6}$; and (ii) the expanded form for:\n",
    "\n",
    "(a) $x = 10$ and $y = 10.1$\n",
    "\n",
    "(b) $x = 10$ and $y = -10.1$\n",
    "\n",
    "and compare the number of significant digits for which the answers are the same.\n",
    "Store the answer for the compact version using the variable `f0`, and using the variable `f1` for the expanded version.\n",
    "\n",
    "For case (b), compare the computed and analytical solutions and consider the relative error.\n",
    "Which approach would you recommend for computing this expression?"
   ]
  },
  {
   "cell_type": "markdown",
   "metadata": {},
   "source": [
    "#### (a) $x = 10$ and $y = 10.1$"
   ]
  },
  {
   "cell_type": "code",
   "execution_count": 16,
   "metadata": {
    "deletable": false,
    "nbgrader": {
     "cell_type": "code",
     "checksum": "908f40d0d9b9a84a5daeb5f1d2a18a3c",
     "grade": false,
     "grade_id": "cell-e8428e3de87d5500",
     "locked": false,
     "schema_version": 3,
     "solution": true
    }
   },
   "outputs": [
    {
     "name": "stdout",
     "output_type": "stream",
     "text": [
      "Compact form:  65944160.60120103\n",
      "Expanded form:  65944160.601201\n",
      "-2.9802322387695312e-08\n"
     ]
    }
   ],
   "source": [
    "x = 10.0\n",
    "y = 10.1\n",
    "\n",
    "# YOUR CODE HERE\n",
    "f0 = (x+y)**6\n",
    "f1 = (x**6) + 6*(x**5)*(y**1) + 15*(x**4)*(y**2) + 20*(x**3)*(y**3) + 15*(x**2)*(y**4) + 6*(x**1)*(y**5) +(y**6)\n",
    "\n",
    "print(\"Compact form: \", f0)\n",
    "print(\"Expanded form: \", f1)\n",
    "print(f1-f0)"
   ]
  },
  {
   "cell_type": "code",
   "execution_count": 14,
   "metadata": {
    "deletable": false,
    "editable": false,
    "nbgrader": {
     "cell_type": "code",
     "checksum": "a4940106bcc4e616b922050d78981780",
     "grade": true,
     "grade_id": "cell-55d184514edf3a67",
     "locked": true,
     "points": 0,
     "schema_version": 3,
     "solution": false
    }
   },
   "outputs": [],
   "source": [
    "import math\n",
    "assert math.isclose(f0, 65944160.60120103, rel_tol=1e-10)\n",
    "assert math.isclose(f1, 65944160.601201, rel_tol=1e-10)"
   ]
  },
  {
   "cell_type": "markdown",
   "metadata": {},
   "source": [
    "#### (b) $x = 10$ and $y = -10.1$"
   ]
  },
  {
   "cell_type": "code",
   "execution_count": 18,
   "metadata": {
    "deletable": false,
    "nbgrader": {
     "cell_type": "code",
     "checksum": "e36a4f376b117817ad05ca02c2bda3c6",
     "grade": false,
     "grade_id": "cell-1561d20281ff67f6",
     "locked": false,
     "schema_version": 3,
     "solution": true
    }
   },
   "outputs": [
    {
     "name": "stdout",
     "output_type": "stream",
     "text": [
      "Compact form:  9.999999999999788e-07\n",
      "Expanded form:  9.958166629076004e-07\n",
      "-4.183337092378376e-09\n"
     ]
    }
   ],
   "source": [
    "x = 10.0\n",
    "y = -10.1\n",
    "\n",
    "# YOUR CODE HERE\n",
    "f0 = (x+y)**6\n",
    "f1 = (x**6) + 6*(x**5)*(y**1) + 15*(x**4)*(y**2) + 20*(x**3)*(y**3) + 15*(x**2)*(y**4) + 6*(x**1)*(y**5) +(y**6)\n",
    "\n",
    "print(\"Compact form: \", f0)\n",
    "print(\"Expanded form: \", f1)\n",
    "print(f1-f0)"
   ]
  },
  {
   "cell_type": "code",
   "execution_count": 19,
   "metadata": {},
   "outputs": [],
   "source": [
    "import math\n",
    "assert math.isclose(f0, 1.0e-6, rel_tol=1e-10)\n",
    "assert math.isclose(f1, 1.0e-6, rel_tol=1e-2)"
   ]
  },
  {
   "cell_type": "markdown",
   "metadata": {},
   "source": [
    "## Exercise 03.3\n",
    "\n",
    "Consider the expression\n",
    "\n",
    "$$\n",
    "f = \\frac{1}{\\sqrt{x^2 - 1} - x}\n",
    "$$\n",
    "\n",
    "When $x$ is very large, the denominator approaches zero, which can cause problems.\n",
    "\n",
    "Try rephrasing the problem and eliminating the fraction by multiplying the numerator and denominator by $\\sqrt{x^2 - 1} + x$ and evaluate the two versions of the expression when:\n",
    "\n",
    "(a) $x = 1 \\times 10^{7}$\n",
    "\n",
    "(b) $x = 1 \\times 10^{9}$ (You may get a Python error for this case. Why?)"
   ]
  },
  {
   "cell_type": "markdown",
   "metadata": {
    "deletable": false,
    "editable": false,
    "nbgrader": {
     "cell_type": "markdown",
     "checksum": "c09b66f37bdee28ed52c52b6017f2cf2",
     "grade": false,
     "grade_id": "cell-53e1abf388eedabe",
     "locked": true,
     "schema_version": 3,
     "solution": false
    }
   },
   "source": [
    "#### (a) $x = 1 \\times 10^{7}$"
   ]
  },
  {
   "cell_type": "code",
   "execution_count": 29,
   "metadata": {
    "deletable": false,
    "nbgrader": {
     "cell_type": "code",
     "checksum": "07ff77b706b18c392edfb815685a3bc3",
     "grade": true,
     "grade_id": "cell-149ac8791e7ff020",
     "locked": false,
     "points": 0,
     "schema_version": 3,
     "solution": true
    }
   },
   "outputs": [
    {
     "name": "stdout",
     "output_type": "stream",
     "text": [
      "-19884107.85185185\n",
      "-19999999.999999948\n"
     ]
    }
   ],
   "source": [
    "# YOUR CODE HERE\n",
    "import math\n",
    "x = 1e7\n",
    "\n",
    "original_form = 1/(math.sqrt(x**2 -1) - x)\n",
    "print(original_form)\n",
    "\n",
    "new_form = - math.sqrt(x**2 - 1) - x\n",
    "print(new_form)\n"
   ]
  },
  {
   "cell_type": "markdown",
   "metadata": {
    "deletable": false,
    "editable": false,
    "nbgrader": {
     "cell_type": "markdown",
     "checksum": "c2132f7f9da6593c6536e19435aeeab7",
     "grade": false,
     "grade_id": "cell-bcc863a1c5c8a6f8",
     "locked": true,
     "schema_version": 3,
     "solution": false
    }
   },
   "source": [
    "#### (b) $x = 1 \\times 10^{9}$"
   ]
  },
  {
   "cell_type": "code",
   "execution_count": 34,
   "metadata": {
    "deletable": false,
    "nbgrader": {
     "cell_type": "code",
     "checksum": "c2e05e9fd5ffdd3901355b52c90169ba",
     "grade": true,
     "grade_id": "cell-4ef986ef1f5838ba",
     "locked": false,
     "points": 0,
     "schema_version": 3,
     "solution": true
    }
   },
   "outputs": [
    {
     "name": "stdout",
     "output_type": "stream",
     "text": [
      "-2000000000.0\n",
      "0.0\n"
     ]
    }
   ],
   "source": [
    "# YOUR CODE HERE\n",
    "x = 1e9\n",
    "\n",
    "#original_form = 1/(math.sqrt(x**2 -1) - x)\n",
    "#print(original_form)\n",
    "\n",
    "new_form = - math.sqrt(x**2 - 1) - x\n",
    "print(new_form)\n",
    "\n",
    "original_form_denominator = (math.sqrt(x**2 -1) - x)\n",
    "print(original_form_denominator)\n"
   ]
  }
 ],
 "metadata": {
  "kernelspec": {
   "display_name": "Python 3",
   "language": "python",
   "name": "python3"
  },
  "language_info": {
   "codemirror_mode": {
    "name": "ipython",
    "version": 3
   },
   "file_extension": ".py",
   "mimetype": "text/x-python",
   "name": "python",
   "nbconvert_exporter": "python",
   "pygments_lexer": "ipython3",
   "version": "3.7.6"
  }
 },
 "nbformat": 4,
 "nbformat_minor": 4
}
