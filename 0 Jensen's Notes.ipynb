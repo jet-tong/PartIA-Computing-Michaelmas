{
 "cells": [
  {
   "cell_type": "markdown",
   "metadata": {},
   "source": [
    "# 0 Jensen's Notes for PartIA Computing Michaelmas"
   ]
  },
  {
   "cell_type": "markdown",
   "metadata": {},
   "source": [
    "# Course Content\n",
    "\n",
    "\n",
    "0. [Introduction](00%20Part%20IA%20Michaelmas%20Term%20computing.ipynb)\n",
    "1. [Variables, assignment and operator precedence](01%20Variables,%20assignment%20and%20operator%20precedence.ipynb)\n",
    "1. [Control statements](02%20Control%20statements.ipynb)\n",
    "1. [Types, type conversions and floating point arithmetic](03%20Types,%20type%20conversions%20and%20floating%20point%20arithmetic.ipynb)\n",
    "1. [Functions](04%20Functions.ipynb)\n",
    "1. [Library functions](05%20Library%20functions.ipynb)\n",
    "1. [Data structures](06%20Data%20structures.ipynb)\n",
    "1. [Numerical computation](07%20Numerical%20computation.ipynb)\n",
    "1. [Plotting](08%20Plotting.ipynb)\n",
    "1. [Error handling and testing](09%20Error%20handling%20and%20testing.ipynb)\n",
    "1. [Algorithms](10%20Algorithms.ipynb)\n",
    "1. [Complexity](11%20Complexity.ipynb)\n",
    "1. [Object-oriented design](12%20Object-oriented%20design.ipynb)"
   ]
  },
  {
   "cell_type": "markdown",
   "metadata": {},
   "source": [
    "# 01 Variables, assignment and operator precedence\n",
    "\n",
    "Objectives:\n",
    "- Introduce expressions and basic operators\n",
    "- Introduce operator precedence\n",
    "- Understand variables and assignment"
   ]
  },
  {
   "cell_type": "markdown",
   "metadata": {},
   "source": [
    "### Operations"
   ]
  },
  {
   "cell_type": "code",
   "execution_count": 2,
   "metadata": {
    "scrolled": false
   },
   "outputs": [
    {
     "name": "stdout",
     "output_type": "stream",
     "text": [
      "256\n",
      "2\n",
      "3\n"
     ]
    }
   ],
   "source": [
    "print(2 ** 8)\n",
    "print(11 % 3)\n",
    "print(11 // 3)"
   ]
  },
  {
   "cell_type": "markdown",
   "metadata": {},
   "source": [
    "### Shortcuts"
   ]
  },
  {
   "cell_type": "code",
   "execution_count": 3,
   "metadata": {},
   "outputs": [
    {
     "name": "stdout",
     "output_type": "stream",
     "text": [
      "48\n"
     ]
    }
   ],
   "source": [
    "a = 12\n",
    "a *= 4\n",
    "print(a)"
   ]
  },
  {
   "cell_type": "markdown",
   "metadata": {},
   "source": [
    "### $\\LaTeX$ Symbols\n",
    "LaTeX Commands within code: <br>\n",
    "Type `'\\theta'` followed by `tab` key"
   ]
  },
  {
   "cell_type": "code",
   "execution_count": 4,
   "metadata": {},
   "outputs": [
    {
     "name": "stdout",
     "output_type": "stream",
     "text": [
      "30\n"
     ]
    }
   ],
   "source": [
    "α = 10\n",
    "β = 20\n",
    "γ = α + β\n",
    "print(γ)"
   ]
  },
  {
   "cell_type": "markdown",
   "metadata": {},
   "source": [
    "# 02 Control statements\n",
    "\n",
    "Objectives:\n",
    "- Introduce Boolean types\n",
    "- Introduce comparison operators\n",
    "- Learn to use control statements"
   ]
  },
  {
   "cell_type": "markdown",
   "metadata": {},
   "source": [
    "### Boolean Operators"
   ]
  },
  {
   "cell_type": "code",
   "execution_count": 5,
   "metadata": {},
   "outputs": [
    {
     "name": "stdout",
     "output_type": "stream",
     "text": [
      "False\n"
     ]
    }
   ],
   "source": [
    "print(10 < 9 or not 15 < 20 or 10 != 10)"
   ]
  },
  {
   "cell_type": "markdown",
   "metadata": {},
   "source": [
    "### `if`"
   ]
  },
  {
   "cell_type": "code",
   "execution_count": 6,
   "metadata": {},
   "outputs": [
    {
     "name": "stdout",
     "output_type": "stream",
     "text": [
      "Initial x is less than zero\n"
     ]
    }
   ],
   "source": [
    "x = -10.0\n",
    "\n",
    "if x > 0.0:  \n",
    "    print('Initial x is greater than zero')\n",
    "elif x < 0.0:  \n",
    "    print('Initial x is less than zero')\n",
    "else: \n",
    "    print('Initial x is not less than zero and not greater than zero, therefore it must be zero')"
   ]
  },
  {
   "cell_type": "markdown",
   "metadata": {},
   "source": [
    "### `for`"
   ]
  },
  {
   "cell_type": "code",
   "execution_count": 7,
   "metadata": {},
   "outputs": [
    {
     "name": "stdout",
     "output_type": "stream",
     "text": [
      "0 0\n",
      "1 1\n",
      "2 4\n",
      "3 9\n",
      "----\n",
      "0\n",
      "3\n",
      "6\n",
      "9\n"
     ]
    }
   ],
   "source": [
    "for n in range(4):\n",
    "    print(n, n**2)\n",
    "print(\"----\")\n",
    "for n in range(0, 10, 3):\n",
    "    print(n)"
   ]
  },
  {
   "cell_type": "markdown",
   "metadata": {},
   "source": [
    "### `while`"
   ]
  },
  {
   "cell_type": "code",
   "execution_count": 8,
   "metadata": {},
   "outputs": [
    {
     "name": "stdout",
     "output_type": "stream",
     "text": [
      "-2\n",
      "-1\n",
      "0\n",
      "1\n",
      "2\n",
      "3\n",
      "4\n"
     ]
    }
   ],
   "source": [
    "x = -2\n",
    "while x < 5:\n",
    "    print(x)\n",
    "    x += 1  # Increment x"
   ]
  },
  {
   "cell_type": "markdown",
   "metadata": {},
   "source": [
    "### `break`"
   ]
  },
  {
   "cell_type": "code",
   "execution_count": 9,
   "metadata": {
    "scrolled": true
   },
   "outputs": [
    {
     "name": "stdout",
     "output_type": "stream",
     "text": [
      "0\n",
      "1\n",
      "2\n",
      "3\n",
      "4\n",
      "5\n",
      "Time to break out\n"
     ]
    }
   ],
   "source": [
    "for x in range(10):\n",
    "    print(x)\n",
    "    if x == 5:\n",
    "        print(\"Time to break out\")\n",
    "        break"
   ]
  },
  {
   "cell_type": "markdown",
   "metadata": {},
   "source": [
    "### `continue`"
   ]
  },
  {
   "cell_type": "code",
   "execution_count": 10,
   "metadata": {},
   "outputs": [
    {
     "name": "stdout",
     "output_type": "stream",
     "text": [
      "Number is divisible by 4: 0\n",
      "Number is divisible by 4: 4\n",
      "Number is divisible by 4: 8\n",
      "Number is divisible by 4: 12\n",
      "Number is divisible by 4: 16\n"
     ]
    }
   ],
   "source": [
    "for j in range(20):\n",
    "    if j % 4 != 0:  # Check remained of j/4\n",
    "        continue  # jump to next iteration over j\n",
    "    print(\"Number is divisible by 4:\", j)"
   ]
  },
  {
   "cell_type": "markdown",
   "metadata": {},
   "source": [
    "### `pass`"
   ]
  },
  {
   "cell_type": "code",
   "execution_count": 11,
   "metadata": {},
   "outputs": [
    {
     "name": "stdout",
     "output_type": "stream",
     "text": [
      "25\n",
      "36\n",
      "49\n",
      "64\n",
      "9\n"
     ]
    }
   ],
   "source": [
    "for x in range(10):\n",
    "    if x < 5:\n",
    "        # TODO: implement handling of x < 5 when other cases finished (fake TODO btw)\n",
    "        pass\n",
    "    elif x < 9:\n",
    "        print(x*x)\n",
    "    else:\n",
    "        print(x)"
   ]
  },
  {
   "cell_type": "markdown",
   "metadata": {},
   "source": [
    "# 03 Types, type conversions and floating point arithmetic\n",
    "\n",
    "Objectives\n",
    "- Introduce primitive data types (booleans, strings and numerical types)\n",
    "- Type inspection\n",
    "- Basic type conversion\n",
    "- Introduction to pitfalls of floating point arithmetic "
   ]
  },
  {
   "cell_type": "markdown",
   "metadata": {},
   "source": [
    "### Types"
   ]
  },
  {
   "cell_type": "code",
   "execution_count": 12,
   "metadata": {},
   "outputs": [
    {
     "name": "stdout",
     "output_type": "stream",
     "text": [
      "<class 'bool'>\n",
      "<class 'complex'>\n",
      "<class 'str'>\n"
     ]
    }
   ],
   "source": [
    "print(type(True))\n",
    "print(type(0.50 + 2j))\n",
    "print(type(\"This is a string\"))"
   ]
  },
  {
   "cell_type": "code",
   "execution_count": 13,
   "metadata": {},
   "outputs": [
    {
     "name": "stdout",
     "output_type": "stream",
     "text": [
      "-3.0 4.0 (4+3j) 5.0\n"
     ]
    }
   ],
   "source": [
    "b = 4-3J\n",
    "print(b.imag, b.real, b.conjugate(), abs(b))"
   ]
  },
  {
   "cell_type": "markdown",
   "metadata": {},
   "source": [
    "### Integer Overflow\n",
    "Gangnam style: $2^{31}$ views, YouTube switched from 32-bit to 64-bit integers to count views.<br>\n",
    "Boeing 787 Dreamliner: electricity shuts down if plane powered 248 days continuously ($2^{31} \\times 0.01$ seconds)"
   ]
  },
  {
   "cell_type": "code",
   "execution_count": 14,
   "metadata": {},
   "outputs": [
    {
     "name": "stdout",
     "output_type": "stream",
     "text": [
      "4\n",
      "37\n"
     ]
    }
   ],
   "source": [
    "a = 8\n",
    "print(a.bit_length())\n",
    "b = a**12\n",
    "print(b.bit_length()) #This would exceed 32 bits"
   ]
  },
  {
   "cell_type": "markdown",
   "metadata": {},
   "source": [
    "### Floating point storage\n",
    "$$\n",
    "10.45 = \\underbrace{+}_{\\text{sign}} \\underbrace{1045}_{\\text{significand}} \\times \\underbrace{10^{-2}}_{\\text{exponent} = -2}\n",
    "$$"
   ]
  },
  {
   "cell_type": "code",
   "execution_count": 15,
   "metadata": {},
   "outputs": [
    {
     "name": "stdout",
     "output_type": "stream",
     "text": [
      "x in 30 characters: \n",
      "0.100000000000000005551115123126\n",
      "0.10000000000000009\n",
      "0.10000000000000098\n",
      "0.10000000000001075\n",
      "0.10000000000011822\n",
      "0.10000000000130038\n",
      "0.1000000000143042\n",
      "0.10000000015734622\n",
      "0.10000000173080847\n",
      "0.10000001903889322\n",
      "0.10000020942782539\n",
      "0.10000230370607932\n",
      "0.10002534076687253\n",
      "0.10027874843559781\n",
      "0.1030662327915759\n",
      "0.13372856070733485\n",
      "0.4710141677806834\n",
      "4.181155845587517\n",
      "44.992714301462684\n",
      "493.9198573160895\n",
      "5432.118430476985\n"
     ]
    }
   ],
   "source": [
    "x = 0.1\n",
    "print('x in 30 characters: ')\n",
    "print('{0:.30f}'.format(x))\n",
    "for i in range(20):\n",
    "    x = x*11 - 1\n",
    "    print(x)\n",
    "# This is caused by the fact that 0.1 here is represented by a 64 bit binary approximation.\n",
    "# By default, Python uses 64 bits to store a float, but we can use numpy to create 32 bit floats and more."
   ]
  },
  {
   "cell_type": "markdown",
   "metadata": {},
   "source": [
    "Patriot Missle Failure: missle software multiplied counter by float representation of $0.1$ in 24 bits, and it lead to an error of $0.32\\,$s  after 100 hours of operation, and due to the high velocity of the missile it failed to intercept the incoming Scud."
   ]
  },
  {
   "cell_type": "code",
   "execution_count": 95,
   "metadata": {},
   "outputs": [
    {
     "name": "stdout",
     "output_type": "stream",
     "text": [
      "Time error after 100 hours using 16 bit float (s): 87.890625\n",
      "Time error after 100 hours using 32 bit float (s): 0.005364418029785156\n",
      "Time error after 100 hours using 64 bit float (s): 0.0\n",
      "\n",
      "(in 100 sig figs: 0.0000000000000000000000000000000000000000000000000000000000000000000000000000000000000000000000000000)\n",
      "The type of dt is not a normal float; it is: <class 'numpy.float64'>\n"
     ]
    }
   ],
   "source": [
    "import numpy as np\n",
    "# Compute internal system counter after 100 hours (counter increments every 1/10 s)\n",
    "num_hours = 100\n",
    "num_seconds = num_hours*60*60\n",
    "system_counter = num_seconds*10  # system clock counter\n",
    "\n",
    "# Test with 16 bit float\n",
    "dt = np.float16(0.1)\n",
    "time = dt*system_counter\n",
    "print(\"Time error after 100 hours using 16 bit float (s):\", abs(time - num_seconds))\n",
    "\n",
    "# Test with 32 bit float\n",
    "dt = np.float32(0.1)\n",
    "time = dt*system_counter\n",
    "print(\"Time error after 100 hours using 32 bit float (s):\", abs(time - num_seconds))\n",
    "\n",
    "# Test with 64 bit float\n",
    "dt = np.float64(0.1)\n",
    "time = dt*system_counter\n",
    "print(\"Time error after 100 hours using 64 bit float (s):\", abs(time - num_seconds))\n",
    "print(\"\\n(in 100 sig figs: {:.100f})\".format(time - num_seconds)) # idk why the error is zero though\n",
    "print(\"The type of dt is not a normal float; it is: {}\".format(type(dt)))"
   ]
  },
  {
   "cell_type": "markdown",
   "metadata": {},
   "source": [
    "# 04 Functions\n",
    "\n",
    "Objectives:\n",
    "- Introduce construction and use of user functions\n",
    "- Returning from functions\n",
    "- Default arguments\n",
    "- Recursion"
   ]
  },
  {
   "cell_type": "markdown",
   "metadata": {},
   "source": [
    "### Named arguments"
   ]
  },
  {
   "cell_type": "code",
   "execution_count": 17,
   "metadata": {},
   "outputs": [
    {
     "name": "stdout",
     "output_type": "stream",
     "text": [
      "-1\n",
      "-1\n"
     ]
    }
   ],
   "source": [
    "def subtract_and_increment(a, b):\n",
    "    \"Return a minus b, plus 1\"\n",
    "    return a - b + 1\n",
    "alpha, beta = 3, 5\n",
    "print(subtract_and_increment(a=alpha, b=beta))  # Expect -1\n",
    "print(subtract_and_increment(b=beta, a=alpha))  # Expect -1"
   ]
  },
  {
   "cell_type": "markdown",
   "metadata": {},
   "source": [
    "### Passing a function as a function argument"
   ]
  },
  {
   "cell_type": "code",
   "execution_count": 18,
   "metadata": {},
   "outputs": [
    {
     "name": "stdout",
     "output_type": "stream",
     "text": [
      "(False, -2)\n"
     ]
    }
   ],
   "source": [
    "def f_minus_10(x):\n",
    "    return x-10\n",
    "def is_positive(f, x):\n",
    "    \"Check if the function value f(x) is positive\"\n",
    "    # Evaluate the function passed into the function for the value of x \n",
    "    # passed into the function\n",
    "    if f(x) > 0:\n",
    "        return True, f(x)\n",
    "    else:\n",
    "        return False, f(x)\n",
    "print(is_positive(f_minus_10, 8))"
   ]
  },
  {
   "cell_type": "markdown",
   "metadata": {},
   "source": [
    "### Recursive Functions"
   ]
  },
  {
   "cell_type": "code",
   "execution_count": 19,
   "metadata": {},
   "outputs": [
    {
     "name": "stdout",
     "output_type": "stream",
     "text": [
      "55\n"
     ]
    }
   ],
   "source": [
    "def f(n): \n",
    "    \"Compute the nth Fibonacci number using recursion\"\n",
    "    if n == 0:\n",
    "        return 0  # This doesn't call f, so it breaks out of the recursion loop\n",
    "    elif n == 1:\n",
    "        return 1  # This doesn't call f, so it breaks out of the recursion loop\n",
    "    else:\n",
    "        return f(n - 1) + f(n - 2)  # This calls f for n-1 and n-2 (recursion), and returns the sum \n",
    "\n",
    "print(f(10))"
   ]
  },
  {
   "cell_type": "code",
   "execution_count": 96,
   "metadata": {},
   "outputs": [
    {
     "name": "stdout",
     "output_type": "stream",
     "text": [
      "4.0000001192092896 9.536743306171047e-07 23\n",
      "4.534070134162903 -7.047073751209609e-07 23\n",
      "True\n"
     ]
    }
   ],
   "source": [
    "\"My recursive function to compute a root\"\n",
    "\n",
    "def testf(x): # Test function with obvious roots 4 and -4\n",
    "    return x**2 - 16\n",
    "def my_f(x): # Function to be used\n",
    "    \"Evaluate polynomial function\"\n",
    "    return x**3 - 6*x**2 + 4*x + 12\n",
    "\n",
    "def compute_root(f, x0, x1, tol, max_it, it_count=0): # it_count initialized in the argument part of the def\n",
    "    \"Compute roots of a function using bisection, recusive function\"\n",
    "    \n",
    "    # increment it_count\n",
    "    it_count += 1\n",
    "    \n",
    "    # bisection and reassigning boundary values\n",
    "    x_mid = (x0 + x1)/2\n",
    "    if f(x_mid)*f(x0) < 0:\n",
    "        x1 = x_mid\n",
    "    else:\n",
    "        x0 = x_mid\n",
    "    \n",
    "    # Break if error is under tolerance\n",
    "    error = abs(f(x_mid))\n",
    "    if error < tol:\n",
    "        return x_mid, f(x_mid), it_count\n",
    "    \n",
    "    # Break if number of iterations exceed maximum\n",
    "    if it_count >= max_it:\n",
    "        print(\"Maximum Iterations Reached - will show results with \", it_count, \" iterations.\")\n",
    "        return x_mid, f(x_mid), it_count\n",
    "    \n",
    "    # Call compute_root recursively\n",
    "    return compute_root(f, x0, x1, tol, max_it, it_count)\n",
    "\n",
    "# Testing my code with the testf (root is 4 and -4) and my_f\n",
    "x, f, num_it = compute_root(testf, x0=3, x1=6, tol=1.0e-6, max_it=1000)\n",
    "print(x, f, num_it)\n",
    "x, f, num_it = compute_root(my_f, x0=3, x1=6, tol=1.0e-6, max_it=1000)\n",
    "print(x, f, num_it)\n",
    "print( round(x - 4.534070134162903, 10) == 0.0)"
   ]
  },
  {
   "cell_type": "markdown",
   "metadata": {},
   "source": [
    "# 05 Library functions\n",
    "\n",
    "Objectives:\n",
    "- Introduce use of standard library functions\n",
    "- Importing and using modules\n",
    "- Introduction to namespaces\n",
    "- Print formatting of floats"
   ]
  },
  {
   "cell_type": "code",
   "execution_count": 21,
   "metadata": {},
   "outputs": [
    {
     "name": "stdout",
     "output_type": "stream",
     "text": [
      "1.4142135623730951\n"
     ]
    }
   ],
   "source": [
    "import math\n",
    "\n",
    "x = 2.0\n",
    "x = math.sqrt(x)\n",
    "print(x)"
   ]
  },
  {
   "cell_type": "code",
   "execution_count": 22,
   "metadata": {},
   "outputs": [
    {
     "name": "stdout",
     "output_type": "stream",
     "text": [
      "1.4142135623730951\n"
     ]
    }
   ],
   "source": [
    "from math import sqrt as square_root\n",
    "\n",
    "x = 2.0\n",
    "x = square_root(x)\n",
    "print(x)"
   ]
  },
  {
   "cell_type": "markdown",
   "metadata": {},
   "source": [
    "### String Formatting"
   ]
  },
  {
   "cell_type": "code",
   "execution_count": 23,
   "metadata": {},
   "outputs": [
    {
     "name": "stdout",
     "output_type": "stream",
     "text": [
      "3.141592653589793\n",
      "3.1415927\n",
      "3.14159265358979311600e+00\n"
     ]
    }
   ],
   "source": [
    "import math\n",
    "print(\"{}\".format(math.pi))\n",
    "print(\"{:.8}\".format(math.pi))\n",
    "print(\"{:.20e}\".format(math.pi))"
   ]
  },
  {
   "cell_type": "markdown",
   "metadata": {},
   "source": [
    "A very nice compression exercise: [05 Exercises](http://localhost:8888/notebooks/Documents/GitHub/PartIA-Computing-Michaelmas/Exercises/05%20Exercises.ipynb)"
   ]
  },
  {
   "cell_type": "markdown",
   "metadata": {},
   "source": [
    "Failed - [Sorting Example](\"05%20Library%20functions.ipynb\")"
   ]
  },
  {
   "cell_type": "markdown",
   "metadata": {},
   "source": [
    "# 06 Data structures\n",
    "\n",
    "Objectives:\n",
    "- Use `list`, `tuple` and dictionary (`dict`) data structures\n",
    "- Use iteratation to visit entries in a data structure \n",
    "- Learn to select the right data structure for an application"
   ]
  },
  {
   "cell_type": "markdown",
   "metadata": {},
   "source": [
    "### Lists"
   ]
  },
  {
   "cell_type": "code",
   "execution_count": 24,
   "metadata": {},
   "outputs": [
    {
     "name": "stdout",
     "output_type": "stream",
     "text": [
      "[['Sarah', 'John', 'Joe', 'Emily'], ['Roger', 'Rachel', 'Amer', 'Caroline', 'Colin']]\n",
      "['Sarah', 'John', 'Joe', 'Emily', 'Roger', 'Rachel', 'Amer', 'Caroline', 'Colin']\n"
     ]
    }
   ],
   "source": [
    "lab_group0 = [\"Sarah\", \"John\", \"Joe\", \"Emily\"]\n",
    "lab_group1 = [\"Roger\", \"Rachel\", \"Amer\", \"Caroline\", \"Colin\"]\n",
    "print([lab_group0, lab_group1])\n",
    "print(lab_group0 + lab_group1)"
   ]
  },
  {
   "cell_type": "code",
   "execution_count": 25,
   "metadata": {},
   "outputs": [
    {
     "name": "stdout",
     "output_type": "stream",
     "text": [
      "Sarah\n",
      "John\n",
      "Joe\n",
      "Emily\n",
      "----\n",
      "0 Sarah\n",
      "1 John\n",
      "2 Joe\n",
      "3 Emily\n"
     ]
    }
   ],
   "source": [
    "lab_group0 = [\"Sarah\", \"John\", \"Joe\", \"Emily\"]\n",
    "for member in lab_group0:\n",
    "    print(member)\n",
    "print(\"----\")\n",
    "for n, member in enumerate(lab_group0):\n",
    "    print(n, member)"
   ]
  },
  {
   "cell_type": "code",
   "execution_count": 26,
   "metadata": {},
   "outputs": [
    {
     "name": "stdout",
     "output_type": "stream",
     "text": [
      "['Sarah', 'Joe', 'Emily']\n",
      "['Sarah', 'Joe', 'Emily', 'Josephine']\n"
     ]
    }
   ],
   "source": [
    "lab_group0 = [\"Sarah\", \"John\", \"Joe\", \"Emily\"]\n",
    "\n",
    "# Remove the second student (indexing starts from 0, so 1 is the second element)\n",
    "lab_group0.pop(1)\n",
    "print(lab_group0)\n",
    "\n",
    "# Add new student \"Josephine\" at the end of the list\n",
    "lab_group0.append(\"Josephine\")\n",
    "print(lab_group0)"
   ]
  },
  {
   "cell_type": "code",
   "execution_count": 27,
   "metadata": {},
   "outputs": [
    {
     "name": "stdout",
     "output_type": "stream",
     "text": [
      "Sarah\n",
      "John\n",
      "Joe\n",
      "Emily\n"
     ]
    }
   ],
   "source": [
    "lab_group0 = [\"Sarah\", \"John\", \"Joe\", \"Emily\"]\n",
    "for i in range(len(lab_group0)):\n",
    "    print(lab_group0[i])"
   ]
  },
  {
   "cell_type": "code",
   "execution_count": 28,
   "metadata": {},
   "outputs": [
    {
     "name": "stdout",
     "output_type": "stream",
     "text": [
      "['Emily', 'Joe', 'John', 'Sarah']\n",
      "----\n",
      "['Sarah', 'John', 'Joe', 'Emily']\n",
      "['Emily', 'Joe', 'John', 'Sarah']\n"
     ]
    }
   ],
   "source": [
    "lab_group0 = [\"Sarah\", \"John\", \"Joe\", \"Emily\"]\n",
    "lab_group0.sort()\n",
    "print(lab_group0)\n",
    "\n",
    "print(\"----\")\n",
    "\n",
    "lab_group0 = [\"Sarah\", \"John\", \"Joe\", \"Emily\"]\n",
    "sorted_lab_group0 = sorted(lab_group0)\n",
    "print(lab_group0)\n",
    "print(sorted_lab_group0)"
   ]
  },
  {
   "cell_type": "markdown",
   "metadata": {},
   "source": [
    "### List Comprehension\n",
    "(Basically shortcut)"
   ]
  },
  {
   "cell_type": "code",
   "execution_count": 29,
   "metadata": {},
   "outputs": [
    {
     "name": "stdout",
     "output_type": "stream",
     "text": [
      "['Rachel.', 'Caroline.']\n"
     ]
    }
   ],
   "source": [
    "lab_group1 = [\"Roger\", \"Rachel\", \"Amer\", \"Caroline\", \"Colin\"]\n",
    "group = [name + \".\" for name in lab_group1 if len(name) > 5]\n",
    "print(group)"
   ]
  },
  {
   "cell_type": "code",
   "execution_count": 30,
   "metadata": {},
   "outputs": [
    {
     "name": "stdout",
     "output_type": "stream",
     "text": [
      "[-2, 11.3, -20, 8]\n",
      "[(0, -2), (4.3, 7), (-5, -15), (7, 1)]\n",
      "[-2, 11.3, -20, 8]\n"
     ]
    }
   ],
   "source": [
    "\"Finding the sum vector of a and b\"\n",
    "a = [0, 4.3, -5, 7]\n",
    "b = [-2, 7, -15, 1]\n",
    "print( [a[i] + b[i] for i in range(len(a))] ) # the first method that came to my mind\n",
    "# OR\n",
    "print(list(zip(a,b))) # To show what list(zip(a,b)) really is\n",
    "print( [x+y for x,y in list(zip(a,b))] )"
   ]
  },
  {
   "cell_type": "markdown",
   "metadata": {},
   "source": [
    "### Tuples\n",
    "\n",
    "Tuples are closely related to lists. The main difference is that a tuple cannot be changed after it has been created. In computing jargon, it is immutable.\n",
    "\n",
    "For something that should not change after it has been created, such as a vector of length three with fixed entries, a tuple is more appropriate than a list. It is 'safer' in this case since it cannot be modified accidentally in a program. Being immutable ('read-only') also permits implementations to possibly exploit this to optimise for speed.\n",
    "\n",
    "To create a tuple, use round brackets. "
   ]
  },
  {
   "cell_type": "markdown",
   "metadata": {},
   "source": [
    "### Dictionaries and operations"
   ]
  },
  {
   "cell_type": "code",
   "execution_count": 31,
   "metadata": {},
   "outputs": [
    {
     "name": "stdout",
     "output_type": "stream",
     "text": [
      "{\"St Catharine's\": 'CTH', \"Christ's\": 'CHR', 'Churchill': 'CHU', 'Clare': 'CL', 'Clare Hall': 'CLH', 'Corpus Christi': 'CC'} \n",
      "\n",
      "Dictionary from college abbrev to name:\n",
      " {'CTH': \"St Catharine's\", 'CHR': \"Christ's\", 'CHU': 'Churchill', 'CL': 'Clare', 'CLH': 'Clare Hall', 'CC': 'Corpus Christi'}\n",
      "\n",
      "Sorted abbreviation list:\n",
      " ['CC', 'CHR', 'CHU', 'CL', 'CLH', 'CTH']\n"
     ]
    }
   ],
   "source": [
    "names_to_abbrev = {'St Catharine\\'s': 'CTH',\n",
    "                   'Christ\\'s': 'CHR', \n",
    "                   'Churchill': 'CHU', \n",
    "                   'Clare':'CL', \n",
    "                   'Clare Hall':'CLH', \n",
    "                   'Corpus Christi': 'CC'}\n",
    "print(names_to_abbrev, '\\n') # Testing this list\n",
    "\n",
    "\"Inversing the list\"\n",
    "abbrev_to_names = {}\n",
    "for name, abbrev in names_to_abbrev.items(): # .items() gets both key and value\n",
    "    abbrev_to_names[abbrev] = name\n",
    "print('Dictionary from college abbrev to name:\\n', abbrev_to_names)\n",
    "    \n",
    "\"Sorting the abbreviation list\"\n",
    "abbrev_list = [abbrev for abbrev in abbrev_to_names] # List comprehension\n",
    "abbrev_list.sort()\n",
    "print('\\nSorted abbreviation list:\\n', abbrev_list)"
   ]
  },
  {
   "cell_type": "code",
   "execution_count": 32,
   "metadata": {},
   "outputs": [],
   "source": [
    "# One key can have more than 1 value using a list or tuple:\n",
    "cambridge_colleges = {'St Catharine\\'s': ('CTH', 1473, 768),\n",
    "                   'Christ\\'s': ('CHR', 1505, 689), \n",
    "                   'Churchill': ('CHU', 1960, 845), \n",
    "                   'Clare': ('CL', 1326, 808), \n",
    "                   'Clare Hall': ('CLH', 1966, 249), \n",
    "                   'Corpus Christi': ('CL', 1352, 553)}"
   ]
  },
  {
   "cell_type": "code",
   "execution_count": 97,
   "metadata": {},
   "outputs": [
    {
     "name": "stdout",
     "output_type": "stream",
     "text": [
      "value_1\n",
      "value_2\n"
     ]
    }
   ],
   "source": [
    "# This is method two found online: dictionary within dictionary\n",
    "my_dict = {\n",
    "\t\"my_key\": {\n",
    "\t\t\"key_1\": 'value_1', \n",
    "\t\t\"key_2\": 'value_2'\n",
    "\t}\n",
    "}\n",
    "print (my_dict[\"my_key\"][\"key_1\"])  # This will print value_1\n",
    "print (my_dict[\"my_key\"][\"key_2\"])  # This will print value_2"
   ]
  },
  {
   "cell_type": "markdown",
   "metadata": {},
   "source": [
    "# 07 Numerical computation\n",
    "\n",
    "Objectives:\n",
    "- Introduction to 1D and 2D arrays (vector and matrices) \n",
    "- Manipulating arrays (indexing, slicing, etc)\n",
    "- Apply elementary numerical operations\n",
    "- Demonstrate efficiency differences between vectorised and non-vectorised functions"
   ]
  },
  {
   "cell_type": "markdown",
   "metadata": {},
   "source": [
    "### NumPy 1D Arrays"
   ]
  },
  {
   "cell_type": "code",
   "execution_count": 34,
   "metadata": {},
   "outputs": [
    {
     "name": "stdout",
     "output_type": "stream",
     "text": [
      "[0. 0. 0. 0. 0. 0.]\n",
      "[1. 1. 1. 1. 1. 1. 1. 1. 1. 1.]\n",
      "[0.84197424 0.30412355 0.34436053]\n",
      "[2 3 4 5 6 7 8 9]\n",
      "[2 3 4 5 6 7 8 9]\n",
      "[  0.  20.  40.  60.  80. 100.]\n"
     ]
    }
   ],
   "source": [
    "import numpy as np\n",
    "\n",
    "print(np.zeros(6))\n",
    "print(np.ones(10))\n",
    "print(np.random.rand(3))\n",
    "\n",
    "print(np.arange(2,10))       # It is Array RANGE hence arange\n",
    "print(np.array(range(2,10))) # Same thing as above\n",
    "\n",
    "\n",
    "print(np.linspace(0,100,6))  # Used extensively for plotting"
   ]
  },
  {
   "cell_type": "code",
   "execution_count": 40,
   "metadata": {},
   "outputs": [
    {
     "name": "stdout",
     "output_type": "stream",
     "text": [
      "[0. 0. 0. 0. 0. 0.]\n",
      "<class 'numpy.ndarray'>\n",
      "6\n",
      "float64\n",
      "(6,)\n"
     ]
    }
   ],
   "source": [
    "x = np.zeros(6)\n",
    "\n",
    "print(x)\n",
    "print(type(x))\n",
    "print(len(x))\n",
    "print(x.dtype) # Dimensional Type (of the values)\n",
    "print(x.shape) # Shape - axbxc matrice gives (a,b,c)"
   ]
  },
  {
   "cell_type": "code",
   "execution_count": 41,
   "metadata": {},
   "outputs": [
    {
     "name": "stdout",
     "output_type": "stream",
     "text": [
      "[10.  0.  0.  0.  0.  5.]\n",
      "6\n"
     ]
    }
   ],
   "source": [
    "\"Indexing - same as python lists\"\n",
    "x[0] = 10\n",
    "x[5] = 5\n",
    "print(x)\n",
    "print(len(x))"
   ]
  },
  {
   "cell_type": "code",
   "execution_count": 42,
   "metadata": {},
   "outputs": [
    {
     "name": "stdout",
     "output_type": "stream",
     "text": [
      "[ 4.  8.  9. 11. -2.]\n"
     ]
    }
   ],
   "source": [
    "\"NumPy array from python list\"\n",
    "x = [4.0, 8.0, 9.0, 11.0, -2.0]\n",
    "y = np.array(x)\n",
    "print(y)"
   ]
  },
  {
   "cell_type": "markdown",
   "metadata": {},
   "source": [
    "### 1D Operations"
   ]
  },
  {
   "cell_type": "code",
   "execution_count": 43,
   "metadata": {},
   "outputs": [
    {
     "name": "stdout",
     "output_type": "stream",
     "text": [
      "[1 2 4]\n",
      "[0.         1.57079633 3.14159265] \n",
      "\n",
      "[1.         3.57079633 7.14159265]\n",
      "[ 0.          3.14159265 12.56637061]\n",
      "[2 4 8]\n",
      "[ 1  4 16] \n",
      "\n",
      "[0.0000000e+00 1.0000000e+00 1.2246468e-16]\n"
     ]
    }
   ],
   "source": [
    "x = np.array([1, 2, 4])\n",
    "y = np.array([0, np.pi/2, np.pi])\n",
    "print(x)\n",
    "print(y, \"\\n\")\n",
    "\n",
    "print(x + y)\n",
    "print(x * y)\n",
    "print(x * 2)\n",
    "print(x ** 2, \"\\n\")\n",
    "\n",
    "print(np.sin(y)) # Not math.sin though"
   ]
  },
  {
   "cell_type": "code",
   "execution_count": 46,
   "metadata": {},
   "outputs": [
    {
     "name": "stdout",
     "output_type": "stream",
     "text": [
      "<class 'numpy.ndarray'>\n",
      "Wall time: 2.99 ms\n",
      "1825.7875498316032\n"
     ]
    }
   ],
   "source": [
    "x = np.random.rand(10000000)\n",
    "print(type(x))\n",
    "\n",
    "%time norm = np.sqrt(np.dot(x, x)) # np.dot - dot product; This calculates the normal/'absolute' magnitude of a vector\n",
    "print(norm)"
   ]
  },
  {
   "cell_type": "markdown",
   "metadata": {},
   "source": [
    "### NumPy 2D Arrays"
   ]
  },
  {
   "cell_type": "code",
   "execution_count": 50,
   "metadata": {},
   "outputs": [
    {
     "name": "stdout",
     "output_type": "stream",
     "text": [
      "[[ 2.2  3.7  9.1]\n",
      " [-4.   3.1  1.3]] \n",
      "\n",
      "2\n",
      "(2, 3)\n",
      "-4.0\n"
     ]
    }
   ],
   "source": [
    "A = np.array([[2.2, 3.7, 9.1], [-4.0, 3.1, 1.3]])\n",
    "\n",
    "print(A, \"\\n\")\n",
    "\n",
    "print(len(A))\n",
    "print(A.shape)\n",
    "print(A[1,0])"
   ]
  },
  {
   "cell_type": "code",
   "execution_count": 84,
   "metadata": {},
   "outputs": [
    {
     "name": "stdout",
     "output_type": "stream",
     "text": [
      "[[1. 1.]\n",
      " [1. 1.]]\n",
      "[[0. 0.]\n",
      " [0. 0.]\n",
      " [0. 0.]]\n"
     ]
    }
   ],
   "source": [
    "print(np.ones([2,2]))\n",
    "print(np.zeros([3,2]))"
   ]
  },
  {
   "cell_type": "code",
   "execution_count": 53,
   "metadata": {},
   "outputs": [
    {
     "name": "stdout",
     "output_type": "stream",
     "text": [
      "2.2\n",
      "3.7\n",
      "9.1\n",
      "------\n",
      "-4.0\n",
      "3.1\n",
      "1.3\n",
      "------\n"
     ]
    }
   ],
   "source": [
    "for row in A:\n",
    "    for value in row: # We can do that because the 2D array is essentially an array in an array.\n",
    "        print(value)\n",
    "    print(\"------\")"
   ]
  },
  {
   "cell_type": "markdown",
   "metadata": {},
   "source": [
    "### 2D Operations"
   ]
  },
  {
   "cell_type": "code",
   "execution_count": 67,
   "metadata": {},
   "outputs": [
    {
     "name": "stdout",
     "output_type": "stream",
     "text": [
      "Matrix A:\n",
      " [[3.4 2.6]\n",
      " [2.1 4.5]]\n",
      "Matrix B:\n",
      " [[1.3 0. ]\n",
      " [0.  2. ]]\n",
      "Vector x:\n",
      " [ 0.2 -1.1]\n"
     ]
    }
   ],
   "source": [
    "A = np.array([[3.4, 2.6], [2.1, 4.5]])\n",
    "print(\"Matrix A:\\n {}\".format(A))\n",
    "\n",
    "B = np.array([[1.3, 0], [0, 2.0]])\n",
    "print(\"Matrix B:\\n {}\".format(B))\n",
    "\n",
    "x = np.array([0.2, -1.1])\n",
    "print(\"Vector x:\\n {}\".format(x))"
   ]
  },
  {
   "cell_type": "code",
   "execution_count": 72,
   "metadata": {},
   "outputs": [
    {
     "name": "stdout",
     "output_type": "stream",
     "text": [
      "[-2.18 -4.53]\n",
      "[[4.42 5.2 ]\n",
      " [2.73 9.  ]]\n"
     ]
    }
   ],
   "source": [
    "\"Matrix-vector multiplication\"\n",
    "print(A.dot(x)) # OR print(np.dot(A,x))\n",
    "\"Matrix-matrix multiplication\"\n",
    "print(A.dot(B)) # OR print(np.dot(A,B))"
   ]
  },
  {
   "cell_type": "code",
   "execution_count": 79,
   "metadata": {},
   "outputs": [
    {
     "name": "stdout",
     "output_type": "stream",
     "text": [
      "Matrix A:\n",
      " [[3.4 2.6]\n",
      " [2.1 4.5]]\n",
      "Inverse of A:\n",
      " [[ 0.45731707 -0.26422764]\n",
      " [-0.21341463  0.34552846]]\n",
      "Determinant of A:\n",
      " 9.839999999999998\n",
      "Transpose of A:\n",
      " [[3.4 2.1]\n",
      " [2.6 4.5]]\n"
     ]
    }
   ],
   "source": [
    "A = np.array([[3.4, 2.6], [2.1, 4.5]])\n",
    "print(\"Matrix A:\\n {}\".format(A))\n",
    "\n",
    "Ainv = np.linalg.inv(A)\n",
    "print(\"Inverse of A:\\n {}\".format(Ainv))\n",
    "\n",
    "Adet = np.linalg.det(A)\n",
    "print(\"Determinant of A:\\n {}\".format(Adet))\n",
    "\n",
    "Atrans = A.transpose() # OR Atrans = np.transpose(A)\n",
    "print(\"Transpose of A:\\n {}\".format(Atrans))"
   ]
  },
  {
   "cell_type": "code",
   "execution_count": 82,
   "metadata": {},
   "outputs": [
    {
     "name": "stdout",
     "output_type": "stream",
     "text": [
      "[[1. 0. 0. 0.]\n",
      " [0. 1. 0. 0.]\n",
      " [0. 0. 1. 0.]\n",
      " [0. 0. 0. 1.]]\n"
     ]
    }
   ],
   "source": [
    "I = np.eye(4)\n",
    "print(I)"
   ]
  },
  {
   "cell_type": "markdown",
   "metadata": {},
   "source": [
    "### Array Slicing"
   ]
  },
  {
   "cell_type": "code",
   "execution_count": 57,
   "metadata": {},
   "outputs": [
    {
     "name": "stdout",
     "output_type": "stream",
     "text": [
      "[ 1  2  3  4  5  6  7  8  9 10]\n",
      "[ 1  2  3  4  5  6  7  8  9 10]\n",
      "[3 4 5]\n",
      "[ 4  5  6  7  8  9 10]\n",
      "[1 2 3 4 5]\n",
      "[1 2 3 4 5 6 7 8 9]\n"
     ]
    }
   ],
   "source": [
    "\"1D Slicing\"\n",
    "x = np.arange(1,11)\n",
    "print(x, \"\\n\")\n",
    "\n",
    "print(x[:])\n",
    "print(x[2:5]) # Includes x[2], excludes x[5]\n",
    "print(x[3:])\n",
    "print(x[:5])\n",
    "print(x[:-1]) # Everything excluding x[-1], which is the last element"
   ]
  },
  {
   "cell_type": "code",
   "execution_count": 5,
   "metadata": {},
   "outputs": [
    {
     "name": "stdout",
     "output_type": "stream",
     "text": [
      "[[ 2.2  3.7  9.1]\n",
      " [-4.   3.1  1.3]] \n",
      "\n",
      "[[ 2.2  3.7]\n",
      " [-4.   3.1]] \n",
      "\n",
      "[[3.7 9.1]\n",
      " [3.1 1.3]]\n"
     ]
    }
   ],
   "source": [
    "\"2D Slicing\"\n",
    "A = np.array([[2.2, 3.7, 9.1], [-4.0, 3.1, 1.3]])\n",
    "print(A, \"\\n\")\n",
    "\n",
    "print(A[:, :2], \"\\n\")\n",
    "print(A[:, 1:])"
   ]
  },
  {
   "cell_type": "markdown",
   "metadata": {},
   "source": [
    "# 08 Plotting\n",
    "\n",
    "Objectives:\n",
    "- Introduction to a programmatic approach to plotting \n",
    "- Create line plots and bar charts from discrete data sets\n",
    "- Create line plots of mathematical functions\n",
    "- Create histograms for distribution-like data \n",
    "- Develop interactive plots\n",
    "- Create contour plots of functions of two variables"
   ]
  },
  {
   "cell_type": "code",
   "execution_count": 3,
   "metadata": {},
   "outputs": [],
   "source": [
    "\"Importing matplotlib, pyplot, and numpy\"\n",
    "# I still have no idea why we have to import matplotlib if we imported pyplot as plt\n",
    "import matplotlib\n",
    "import matplotlib.pyplot as plt\n",
    "import numpy as np"
   ]
  },
  {
   "cell_type": "code",
   "execution_count": 4,
   "metadata": {},
   "outputs": [],
   "source": [
    "\"Magic Command for plots to appear inline in Jupyter's IPython environment\"\n",
    "%matplotlib inline\n",
    "# To increasing default font size, uncomment and use:\n",
    "# matplotlib.rcParams.update({'font.size': 16}) "
   ]
  },
  {
   "cell_type": "markdown",
   "metadata": {},
   "source": [
    "### Line Plot"
   ]
  },
  {
   "cell_type": "code",
   "execution_count": 12,
   "metadata": {},
   "outputs": [
    {
     "data": {
      "image/png": "[encoded data removed]",
      "text/plain": [
       "<Figure size 432x288 with 1 Axes>"
      ]
     },
     "metadata": {
      "needs_background": "light"
     },
     "output_type": "display_data"
    }
   ],
   "source": [
    "x = [-1, 3, 4, 8 , 10]\n",
    "f = [-1, -2, 7, 13 , 1]\n",
    "\n",
    "# Plot the graph with crosses(-x) and with red colour.\n",
    "plt.plot(x,f,'-xr') # Use '-o' for circles\n",
    "\n",
    "# Attach labels and title (using LaTeX syntax)\n",
    "plt.xlabel('$x$')\n",
    "plt.ylabel('$f$')\n",
    "plt.title(\"Simple plot of $x$ vs $f$\")\n",
    "\n",
    "# Save plot to file (same directory as notebook)\n",
    "plt.savefig(\"my-plot.pdf\")\n",
    "plt.show()"
   ]
  },
  {
   "cell_type": "markdown",
   "metadata": {},
   "source": [
    "### Mathematical Functions"
   ]
  },
  {
   "cell_type": "code",
   "execution_count": 16,
   "metadata": {},
   "outputs": [
    {
     "data": {
      "image/png": "[encoded data removed]",
      "text/plain": [
       "<Figure size 432x288 with 1 Axes>"
      ]
     },
     "metadata": {
      "needs_background": "light"
     },
     "output_type": "display_data"
    }
   ],
   "source": [
    "num_points = 100\n",
    "x = np.linspace(0, 4*np.pi, num=num_points)\n",
    "\n",
    "# Plot the graph\n",
    "plt.plot(x, np.sin(x), label=\"$\\sin(x)$\")\n",
    "plt.plot(x, np.cos(x), label=\"$\\cos(x)$\")\n",
    "\n",
    "# Labels\n",
    "plt.xlabel('$x$')\n",
    "\n",
    "# Add legend\n",
    "plt.legend()\n",
    "\n",
    "# Set limits of x with start/end values *x[-1] is the last value in x\n",
    "plt.xlim(x[0],x[-1])\n",
    "\n",
    "plt.show()"
   ]
  },
  {
   "cell_type": "markdown",
   "metadata": {},
   "source": [
    "### Bar Charts"
   ]
  },
  {
   "cell_type": "code",
   "execution_count": 18,
   "metadata": {},
   "outputs": [
    {
     "data": {
      "image/png": "[encoded data removed]",
      "text/plain": [
       "<Figure size 432x288 with 1 Axes>"
      ]
     },
     "metadata": {
      "needs_background": "light"
     },
     "output_type": "display_data"
    }
   ],
   "source": [
    "cohort = ('IA', 'IB', 'IIA', 'IIB', 'Graduate')\n",
    "num_students = (332, 270, 256, 238, 451)\n",
    "\n",
    "# Create an array with the position of each bar along the x-axis, e.g [0, 1, 2, 3, 4] \n",
    "x_pos = np.arange(len(cohort))\n",
    "\n",
    "# Produce bar plot\n",
    "plt.bar(x_pos, num_students, align='center');\n",
    "\n",
    "# Replace the x ticks with the Tripos name, and rotate labels 30 degrees\n",
    "plt.xticks(x_pos, cohort, rotation=30)\n",
    "\n",
    "# Add axis labels \n",
    "plt.xlabel('cohort')\n",
    "plt.ylabel('number of students')\n",
    "\n",
    "plt.show()"
   ]
  },
  {
   "cell_type": "markdown",
   "metadata": {},
   "source": [
    "### Histograms"
   ]
  },
  {
   "cell_type": "code",
   "execution_count": 28,
   "metadata": {},
   "outputs": [
    {
     "name": "stdout",
     "output_type": "stream",
     "text": [
      "Bins:\n",
      " [-3.5349007  -3.19789946 -2.86089823 -2.52389699 -2.18689575 -1.84989452\n",
      " -1.51289328 -1.17589204 -0.8388908  -0.50188957 -0.16488833  0.17211291\n",
      "  0.50911414  0.84611538  1.18311662  1.52011785  1.85711909  2.19412033\n",
      "  2.53112156  2.8681228   3.20512404]\n",
      "Frequency in each bin:\n",
      " [0.00178041 0.0059347  0.01068245 0.02136491 0.05044492 0.0997029\n",
      " 0.16201721 0.23323357 0.31097809 0.37804016 0.40533976 0.37863363\n",
      " 0.30623033 0.23382704 0.17091925 0.10267025 0.05459921 0.02670613\n",
      " 0.01068245 0.00356082]\n",
      "<a list of 20 Patch objects>\n"
     ]
    },
    {
     "data": {
      "image/png": "[encoded data removed]",
      "text/plain": [
       "<Figure size 432x288 with 1 Axes>"
      ]
     },
     "metadata": {
      "needs_background": "light"
     },
     "output_type": "display_data"
    }
   ],
   "source": [
    "\"Normal Gaussian Distribution - Histogram (random.normal) and Line Graph (normal)\"\n",
    "\n",
    "# Plot normed histogram of data: loc=mean, scale=stddev, size=num samples\n",
    "x = np.random.normal(loc=0.0, scale=1.0, size=5000)  \n",
    "# Produce histogram with 20 bins\n",
    "n, bins, patches = plt.hist(x, 20, density=1.0, facecolor='green', alpha=0.75);\n",
    "\n",
    "# n, bins and patches meaning:\n",
    "print(\"Bins:\\n\",bins)\n",
    "print(\"Frequency in each bin:\\n\",n)\n",
    "print(patches)\n",
    "\n",
    "# Line graph section:\n",
    "\n",
    "# Import norm from SciPy stats module to compute norm probability distribution function\n",
    "from scipy.stats import norm\n",
    "\n",
    "# Create array of 100 equally spaces points, stating from the first value in the bins\n",
    "# through to the last values in the bins\n",
    "xf = np.linspace(bins[0], bins[-1], 100)\n",
    "\n",
    "# Evaluate normal probability density function (pdf) at each xf\n",
    "f = norm.pdf(xf)\n",
    "\n",
    "# Create line plot of normal probability distribution function (blue line)\n",
    "plt.plot(xf, f, 'b')\n",
    "\n",
    "\n",
    "# Add labels\n",
    "plt.xlabel('value')\n",
    "plt.ylabel('frequency')\n",
    "\n",
    "plt.show()"
   ]
  },
  {
   "cell_type": "markdown",
   "metadata": {},
   "source": [
    "### Pie Charts"
   ]
  },
  {
   "cell_type": "code",
   "execution_count": 29,
   "metadata": {},
   "outputs": [
    {
     "data": {
      "image/png": "[encoded data removed]",
      "text/plain": [
       "<Figure size 432x288 with 1 Axes>"
      ]
     },
     "metadata": {},
     "output_type": "display_data"
    }
   ],
   "source": [
    "# Enter data into tuples\n",
    "district = ('Cambridge City', 'East Cambridgeshire', 'Fenland', 'Huntingdonshire',\n",
    "            'South Cambridgeshire')\n",
    "population = (123900, 83800, 95300, 169500, 148800)\n",
    "\n",
    "# Specify slice colours \n",
    "# (see http://stackoverflow.com/questions/22408237/named-colors-in-matplotlib)\n",
    "colors = ['yellowgreen', 'gold', 'lightskyblue', 'lightcoral', 'red']\n",
    "\n",
    "# \"explode\" the 1st slice (Cambridge City)\n",
    "explode = (0.1, 0.0, 0, 0, 0)  \n",
    "\n",
    "# Produce pie chart. The slices will be ordered and plotted counter-clockwise.\n",
    "plt.pie(population, explode=explode, labels=district, colors=colors,\n",
    "        autopct='%1.1f%%', shadow=True, startangle=90)\n",
    "\n",
    "# Add title\n",
    "plt.title(\"2011 population distribution in Cambridgeshire\")\n",
    "\n",
    "plt.show()"
   ]
  },
  {
   "cell_type": "markdown",
   "metadata": {},
   "source": [
    "### Interactive Plots"
   ]
  },
  {
   "cell_type": "code",
   "execution_count": null,
   "metadata": {},
   "outputs": [],
   "source": [
    "\"Importing ipywidgets module for interactive plots\"\n",
    "try:\n",
    "    import ipywidgets\n",
    "except ImportError:\n",
    "    try:\n",
    "        !{sys.executable} -m pip -q install ipywidgets\n",
    "        import ipywidgets\n",
    "    except ImportError:\n",
    "        !{sys.executable} -m pip -q --user install ipywidgets\n",
    "    finally:\n",
    "        !jupyter nbextension enable --py widgetsnbextension\n",
    "        print(\"You will need to refresh your browser page\")"
   ]
  },
  {
   "cell_type": "code",
   "execution_count": 30,
   "metadata": {},
   "outputs": [],
   "source": [
    "# Import interactive widgets module\n",
    "from ipywidgets import interact"
   ]
  },
  {
   "cell_type": "markdown",
   "metadata": {},
   "source": [
    "Plot: $f(t) = t^{\\alpha} \\sin(\\omega t)$"
   ]
  },
  {
   "cell_type": "code",
   "execution_count": 32,
   "metadata": {},
   "outputs": [
    {
     "data": {
      "application/vnd.jupyter.widget-view+json": {
       "model_id": "3d6ed3cdf47c43429fa5ac80d14cb525",
       "version_major": 2,
       "version_minor": 0
      },
      "text/plain": [
       "interactive(children=(FloatSlider(value=1.0, description='ω', max=10.0, min=-10.0, step=0.25), FloatSlider(val…"
      ]
     },
     "metadata": {},
     "output_type": "display_data"
    }
   ],
   "source": [
    "# Encapsulate our plot code inside a function, with the plot parameters as arguments to the function\n",
    "def plot(ω=1, α=0):\n",
    "    t = np.linspace(0, 2*np.pi, 200)\n",
    "    plt.xlabel('$t$')\n",
    "    plt.ylabel('$f$')\n",
    "    plt.title(r\"$\\alpha$ = {}, $\\omega$ = {}\".format(α, ω))\n",
    "    plt.plot(t, (t**α)*np.sin(ω*t))\n",
    "    plt.show()\n",
    "\n",
    "# Plot the interactive plot; in tuple: (min, max, step)\n",
    "interact(plot, ω=(-10, 10, 0.25), α=(0, 2, 0.25));\n",
    "\n",
    "# Optional decorator we can put on top of the def plot() function\n",
    "# Creates the interact(plot, ω, α) line\n",
    "# @interact(ω =(-10, 10, 0.25), α=(0, 2, 0.25)) "
   ]
  },
  {
   "cell_type": "markdown",
   "metadata": {},
   "source": [
    "### Contour Plots"
   ]
  },
  {
   "cell_type": "code",
   "execution_count": 36,
   "metadata": {},
   "outputs": [
    {
     "name": "stdout",
     "output_type": "stream",
     "text": [
      "X:\n",
      " [[-3.14159265 -1.57079633  0.          1.57079633  3.14159265]\n",
      " [-3.14159265 -1.57079633  0.          1.57079633  3.14159265]\n",
      " [-3.14159265 -1.57079633  0.          1.57079633  3.14159265]\n",
      " [-3.14159265 -1.57079633  0.          1.57079633  3.14159265]\n",
      " [-3.14159265 -1.57079633  0.          1.57079633  3.14159265]]\n",
      "\n",
      "Y:\n",
      " [[-3.14159265 -3.14159265 -3.14159265 -3.14159265 -3.14159265]\n",
      " [-1.57079633 -1.57079633 -1.57079633 -1.57079633 -1.57079633]\n",
      " [ 0.          0.          0.          0.          0.        ]\n",
      " [ 1.57079633  1.57079633  1.57079633  1.57079633  1.57079633]\n",
      " [ 3.14159265  3.14159265  3.14159265  3.14159265  3.14159265]]\n"
     ]
    }
   ],
   "source": [
    "\"Understanding np.meshgrid(x,y)\"\n",
    "x = np.linspace(-np.pi, np.pi, 5)\n",
    "y = np.linspace(-np.pi, np.pi, 5)\n",
    "\n",
    "X, Y = np.meshgrid(x, y)\n",
    "\n",
    "print(\"X:\\n\", X)\n",
    "print(\"\\nY:\\n\", Y)"
   ]
  },
  {
   "cell_type": "code",
   "execution_count": 37,
   "metadata": {},
   "outputs": [
    {
     "data": {
      "image/png": "[encoded data removed]",
      "text/plain": [
       "<Figure size 432x288 with 2 Axes>"
      ]
     },
     "metadata": {
      "needs_background": "light"
     },
     "output_type": "display_data"
    }
   ],
   "source": [
    "\"Plot contour of f = sin(X)*cos((X*Y**2)/10)\"\n",
    "# Create points in the x, y direction\n",
    "N = 50  # 50 points in each direction\n",
    "x = np.linspace(-np.pi, np.pi, N)\n",
    "y = np.linspace(-np.pi, np.pi, N)\n",
    "\n",
    "# Create a grid of (x,y) points (NxN array for both x and y)\n",
    "X, Y = np.meshgrid(x, y)\n",
    "\n",
    "# Evaulate function f at each point\n",
    "f = np.sin(X)*np.cos((X*Y**2)/10)\n",
    "\n",
    "# Create filled contour plot\n",
    "plt.contourf(X, Y, f,  cmap=matplotlib.cm.PuBu_r) # cmap used a nice blue/white colour scheme\n",
    "plt.colorbar()  # Add colour bar (legend)\n",
    "plt.show()"
   ]
  },
  {
   "cell_type": "code",
   "execution_count": 39,
   "metadata": {},
   "outputs": [
    {
     "data": {
      "image/png": "[encoded data removed]",
      "text/plain": [
       "<Figure size 432x288 with 1 Axes>"
      ]
     },
     "metadata": {
      "needs_background": "light"
     },
     "output_type": "display_data"
    }
   ],
   "source": [
    "\"Using the default skin with inline labels\"\n",
    "# Plot\n",
    "p = plt.contour(X, Y, f)\n",
    "\n",
    "# Add contour labels\n",
    "plt.clabel(p, inline=1)\n",
    "\n",
    "plt.show()"
   ]
  },
  {
   "cell_type": "markdown",
   "metadata": {},
   "source": [
    "### 3D Plots"
   ]
  },
  {
   "cell_type": "code",
   "execution_count": 40,
   "metadata": {},
   "outputs": [],
   "source": [
    "# Import 'extra modules'\n",
    "from mpl_toolkits.mplot3d import axes3d\n",
    "from matplotlib import cm"
   ]
  },
  {
   "cell_type": "code",
   "execution_count": 42,
   "metadata": {},
   "outputs": [
    {
     "data": {
      "image/png": "[encoded data removed]",
      "text/plain": [
       "<Figure size 432x288 with 1 Axes>"
      ]
     },
     "metadata": {
      "needs_background": "light"
     },
     "output_type": "display_data"
    }
   ],
   "source": [
    "# The course content didn't explain it, but here's the example\n",
    "fig = plt.figure()\n",
    "ax = fig.gca(projection='3d')\n",
    "\n",
    "surf = ax.plot_surface(X, Y, f, rstride=1, cstride=1, cmap=cm.coolwarm,\n",
    "                       linewidth=0, antialiased=True)\n",
    "                                              \n",
    "ax.set_xlabel('$x$')\n",
    "ax.set_ylabel('$y$')\n",
    "\n",
    "ax.view_init(elev=45)\n",
    "\n",
    "plt.show()"
   ]
  },
  {
   "cell_type": "markdown",
   "metadata": {},
   "source": [
    "# 09 Error handling and testing\n",
    "\n",
    "Program errors include 2 types: syntax errors and exceptions.\n",
    "This chapter addresses the exceptions part.\n",
    "\n",
    "Objectives:\n",
    "- Introduction to raising exceptions\n",
    "- Use exception handling\n",
    "- Creation of tests"
   ]
  },
  {
   "cell_type": "markdown",
   "metadata": {},
   "source": [
    "### Rasing Exceptions\n",
    "https://docs.python.org/3/library/exceptions.html"
   ]
  },
  {
   "cell_type": "code",
   "execution_count": 44,
   "metadata": {},
   "outputs": [
    {
     "name": "stdout",
     "output_type": "stream",
     "text": [
      "0.3333333333333333\n"
     ]
    }
   ],
   "source": [
    "nominator = 1\n",
    "denominator = 3\n",
    "if denominator == 0:\n",
    "    raise ValueError(\"The denominator must not equal to zero\")\n",
    "else:\n",
    "    print(nominator/denominator)\n",
    "\n",
    "# Use 'RuntimeError' if nothing fits the error"
   ]
  },
  {
   "cell_type": "markdown",
   "metadata": {},
   "source": [
    "### Exception Handling"
   ]
  },
  {
   "cell_type": "code",
   "execution_count": 27,
   "metadata": {},
   "outputs": [
    {
     "name": "stdout",
     "output_type": "stream",
     "text": [
      "Type in the Nominator(Integer): 2\n",
      "Type in the Denominator(Integer): 3\n",
      "The result is:  0.6666666666666666\n"
     ]
    }
   ],
   "source": [
    "def inputAndDivide():\n",
    "    \"Function that asks users for 2 integers. If input is invalid, user is prompted to try again\"\n",
    "    try:\n",
    "        x = int(input(\"Type in the Nominator(Integer): \"))\n",
    "        y = int(input(\"Type in the Denominator(Integer): \"))\n",
    "    except:\n",
    "        print(\"Invalid Integers entered. Please try again\\n\")\n",
    "        return inputAndDivide()\n",
    "    else:\n",
    "        try:\n",
    "            result = x / y\n",
    "        except ZeroDivisionError:\n",
    "            print(\"Division by zero! Please try again\\n\")\n",
    "            return inputAndDivide()\n",
    "        else:\n",
    "            print(\"The result is: \", result)\n",
    "    finally:\n",
    "        None\n",
    "\n",
    "inputAndDivide()"
   ]
  },
  {
   "cell_type": "markdown",
   "metadata": {},
   "source": [
    "### Testing\n",
    "For large projects, these tests might be run nightly or even every time a change is made to a program (the latter is known as continuous integration).\n",
    "\n",
    "When testing a program, we should test for both valid and invalid input data. For the valid cases the computed result should be checked against a known correct solution. For the invalid data cases, tests should check that an exception is raised. We will consider the former, and address the latter in an optional section.\n",
    "\n",
    "Ideally, tests for a large program should have different levels of granularity. Some tests should test small blocks (individual functions), ideally in isolation from other parts of a program. The cause of unexpected behaviour in a large program can then be pin-pointed quickly. Higher level tests should test a program as a whole, and would typically represent user cases."
   ]
  },
  {
   "cell_type": "code",
   "execution_count": 2,
   "metadata": {},
   "outputs": [],
   "source": [
    "def f(n): \n",
    "    \"Compute the nth Fibonacci number using recursion\"\n",
    "    # YOUR CODE HERE\n",
    "    if n < 0:\n",
    "        raise ValueError(\"The Fibonacci is not valid for n < 0\")\n",
    "    elif n == 0:\n",
    "        return 0\n",
    "    elif n == 1:\n",
    "        return 1\n",
    "    else:\n",
    "        return f(n-2) + f(n-1)"
   ]
  },
  {
   "cell_type": "code",
   "execution_count": 3,
   "metadata": {},
   "outputs": [],
   "source": [
    "# Assert to test for correctness\n",
    "assert f(0) == 0\n",
    "assert f(1) == 1\n",
    "assert f(2) == 1\n",
    "assert f(3) == 2\n",
    "assert f(10) == 55\n",
    "assert f(15) == 610\n",
    "\n",
    "# Use pytest to test for error raised\n",
    "# Check that ValueError is raised for n < 0\n",
    "import pytest\n",
    "with pytest.raises(ValueError):\n",
    "    f(-1)\n",
    "with pytest.raises(ValueError):\n",
    "    f(-2)"
   ]
  },
  {
   "cell_type": "markdown",
   "metadata": {},
   "source": [
    "# 10 Algorithms\n",
    "\n",
    "Objectives:\n",
    "- Develop appreciation of what an algorithm is\n",
    "- Learn to create an algorithm to solve a problem\n",
    "- Use *pseudocode* to describe algorithms"
   ]
  },
  {
   "cell_type": "markdown",
   "metadata": {},
   "source": [
    "- Pseudocode is commonly used to express algorithms. It involves presenting an algorithm in a way that resembles a high-level programming language, like Python."
   ]
  },
  {
   "cell_type": "markdown",
   "metadata": {},
   "source": [
    "### Search"
   ]
  },
  {
   "cell_type": "code",
   "execution_count": 2,
   "metadata": {},
   "outputs": [
    {
     "name": "stdout",
     "output_type": "stream",
     "text": [
      "True\n",
      "False\n",
      "False\n"
     ]
    }
   ],
   "source": [
    "x = [1,2,3,4,5]\n",
    "print(2 in x)\n",
    "print(2.5 in x)\n",
    "print(6 in x)"
   ]
  },
  {
   "cell_type": "markdown",
   "metadata": {},
   "source": [
    "### Linear Search"
   ]
  },
  {
   "cell_type": "code",
   "execution_count": 5,
   "metadata": {},
   "outputs": [
    {
     "name": "stdout",
     "output_type": "stream",
     "text": [
      "True\n",
      "False\n"
     ]
    }
   ],
   "source": [
    "def linear_search(x, val):\n",
    "    \"Return True if val is in x, otherwise return False\"\n",
    "    for item in x:\n",
    "        if item == val:\n",
    "            return True\n",
    "    return False\n",
    "\n",
    "my_colours = [\"yellow\", \"green\", \"blue\", \"orange\", \"purple\"]\n",
    "print(linear_search(my_colours, \"blue\"))\n",
    "print(linear_search(my_colours, \"black\"))"
   ]
  },
  {
   "cell_type": "markdown",
   "metadata": {},
   "source": [
    "### Binary Search"
   ]
  },
  {
   "cell_type": "code",
   "execution_count": 6,
   "metadata": {},
   "outputs": [],
   "source": [
    "def binary_search(x, y):\n",
    "    \"Peform binary search on x to find y. If found returns position, otherwise returns None.\"\n",
    "\n",
    "    # Intialise end point indices\n",
    "    lower, upper = 0, len(x) - 1\n",
    "\n",
    "    # If value is outside of interval, return None \n",
    "    if y < x[lower] or y > x[upper]:\n",
    "        return None\n",
    "\n",
    "    # Perform binary search\n",
    "    while True:\n",
    "                \n",
    "        # Compute midpoint index (integer division)\n",
    "        midpoint = (upper + lower)//2\n",
    "\n",
    "        # Check which side of x[midpoint] y lies, and update midpoint accordingly\n",
    "        if y < x[midpoint]:\n",
    "            upper = midpoint - 1\n",
    "        elif y > x[midpoint]:\n",
    "            lower = midpoint + 1\n",
    "        elif y == x[midpoint]:  # found, so return\n",
    "            return midpoint\n",
    "       \n",
    "        # In this case val is not in list (return None)\n",
    "        if upper < lower:\n",
    "            return None"
   ]
  },
  {
   "cell_type": "code",
   "execution_count": 9,
   "metadata": {},
   "outputs": [
    {
     "name": "stdout",
     "output_type": "stream",
     "text": [
      "[-19 -15 -12  -8  -7  -6  -4   1   2   8   9  15  15  18  22]\n"
     ]
    }
   ],
   "source": [
    "import numpy as np\n",
    "\n",
    "# Generate an array of integers and sort\n",
    "x = np.array([1,  -15, -12,  -8,  -7,  -6,  -4 ,  2,   8,   9,  15,  15,  -19, 18,  22])\n",
    "x.sort()\n",
    "print(x)\n",
    "\n",
    "# Test for values we know are in the array\n",
    "assert binary_search(x, x[2]) == 2\n",
    "# Test for values we know are outside the array interval\n",
    "assert binary_search(x, -21) == None \n",
    "assert binary_search(x, 38) == None \n",
    "# Test for values we know are not in the array but are inside the array interval\n",
    "assert binary_search(x, -11) == None\n",
    "assert binary_search(x, 21) == None"
   ]
  },
  {
   "cell_type": "markdown",
   "metadata": {},
   "source": [
    "### Bubble Sort"
   ]
  },
  {
   "cell_type": "code",
   "execution_count": 10,
   "metadata": {},
   "outputs": [],
   "source": [
    "def bubble_sort(A):\n",
    "    \"Sort A and return\"\n",
    "\n",
    "    # Make a copy of A    \n",
    "    A = A.copy()\n",
    "\n",
    "    # Perform sorting    \n",
    "    N = len(A)\n",
    "    while N > 0:\n",
    "        for i in range(N - 1):\n",
    "            # Swap data if in wrong order\n",
    "            if A[i] > A[i + 1]:\n",
    "                A[i + 1], A[i] = A[i], A[ i + 1]\n",
    "            # Enable the below print statement to see how the algorithms progresses\n",
    "            # print(\"   N={}, i={}, A={}\".format(N, i, A))\n",
    "        N = N - 1\n",
    "        \n",
    "    return A"
   ]
  },
  {
   "cell_type": "markdown",
   "metadata": {},
   "source": [
    "### Quicksort"
   ]
  },
  {
   "cell_type": "code",
   "execution_count": 12,
   "metadata": {},
   "outputs": [],
   "source": [
    "import numpy as np\n",
    "def quicksort(A, lo=0, hi=None):\n",
    "    \"Sort A and return sorted array\"\n",
    "\n",
    "    # Initialise data the first time function is called    \n",
    "    if hi is None:\n",
    "        A = A.copy()\n",
    "        hi = len(A) - 1\n",
    "\n",
    "    # Sort    \n",
    "    if lo < hi:\n",
    "        p = partition(A, lo,  hi)\n",
    "        quicksort(A, lo, p - 1)\n",
    "        quicksort(A, p + 1, hi)\n",
    "    return A\n",
    "\n",
    "\n",
    "def partition(A, lo, hi):\n",
    "    \"Partitioning function for use in quicksort\"\n",
    "    pivot = A[hi]\n",
    "    i = lo\n",
    "    for j in range(lo,  hi):\n",
    "        if A[j] <= pivot:\n",
    "            A[i], A[j] = A[j], A[i]\n",
    "            i += 1\n",
    "    A[i], A[hi] = A[hi], A[i]\n",
    "    return i"
   ]
  },
  {
   "cell_type": "markdown",
   "metadata": {},
   "source": [
    "### Sort performance"
   ]
  },
  {
   "cell_type": "code",
   "execution_count": 14,
   "metadata": {},
   "outputs": [
    {
     "name": "stdout",
     "output_type": "stream",
     "text": [
      "Wall time: 6.05 s\n",
      "Wall time: 28 ms\n",
      "Wall time: 0 ns\n"
     ]
    }
   ],
   "source": [
    "data = np.random.rand(5000)\n",
    "%time x = bubble_sort(data)\n",
    "%time x = quicksort(data)\n",
    "%time x = np.sort(data, kind='quicksort')"
   ]
  },
  {
   "cell_type": "markdown",
   "metadata": {},
   "source": [
    "### [Photo Blurring Exercise](Exercises/10%20Exercises.ipynb)"
   ]
  },
  {
   "cell_type": "markdown",
   "metadata": {},
   "source": [
    "# 11 Complexity\n",
    "Objectives:\n",
    "- Understand 'big-oh' ($O$) notation\n",
    "- Appreciate the consequences of algorithmic complexity\n",
    "- Determine the complexity of some simple algorithms\n",
    "- Measure complexity experimentally"
   ]
  },
  {
   "cell_type": "markdown",
   "metadata": {},
   "source": [
    "Consider a problem of size $n$ (if we were sorting an array of numbers, $n$ would be the length of the array).\n",
    "For many algorithms, when $n$ is large we can express the time cost $t$ as:\n",
    "\n",
    "$$\n",
    "t = C g(n)\n",
    "$$\n",
    "\n",
    "where $C$ is a constant and $g$ is a function. If the cost can be expressed as above, where $C$ is a constant, then we write in 'big-Oh' notation:\n",
    "\n",
    "$$\n",
    "t = O(g(n))\n",
    "$$\n",
    "\n",
    "Common Expressions for $g(n)$ are as follows:\n",
    "- Constant complexity: $O(1)$ (e.g. we assume the cost of operations as constants)\n",
    "- Polynomial complexity: $O(n^k)$ (where $k\\ge1$, doesn't have to be an integer)\n",
    "- Linear complexity: $O(n)$\n",
    "- Quadratic complexity: $O(n^2)$\n",
    "- Cubic complexity: $O(n^3)$\n",
    "- Logarithmic complexity: $O(\\log(n))$\n",
    "- Loglinear complexity: $O(n\\log(n))$ (e.g. Fast Fourier Transform FFT)\n",
    "- Exponential complexity: $O(c^n)$ (where $c\\ge1$; usually too expensive to use)"
   ]
  },
  {
   "cell_type": "code",
   "execution_count": 17,
   "metadata": {},
   "outputs": [],
   "source": [
    "m = 500\n",
    "n = 1000\n",
    "A = np.random.rand(m, n)\n",
    "\n",
    "for i in range(m): # O(m)\n",
    "    for j in range(n): # O(n)\n",
    "        A[i, j] = 10*A[i, j] # O(1)\n",
    "        \n",
    "# OVERALL: O(m*n)"
   ]
  },
  {
   "cell_type": "markdown",
   "metadata": {},
   "source": [
    "### Linear Search:\n",
    "- Best case: $O(1)$ (first item)\n",
    "- Worst case: $O(n)$ (last item)\n",
    "- Average case: $O(n)$ (it's more like $O(n/2)$, but we don't care about the $1/2$ constant)"
   ]
  },
  {
   "cell_type": "code",
   "execution_count": 18,
   "metadata": {},
   "outputs": [],
   "source": [
    "def linear_search(x, val):\n",
    "    \"Return True if val is in x, otherwise return False\"\n",
    "    for item in x:\n",
    "        if item == val:\n",
    "            return True\n",
    "    return False"
   ]
  },
  {
   "cell_type": "code",
   "execution_count": 19,
   "metadata": {},
   "outputs": [],
   "source": [
    "# Create array of problem sizes n we want to test (powers of 2)\n",
    "N = 2**np.arange(2, 20)\n",
    "\n",
    "# Generate the array of integers for the largest problem to use in plotting times\n",
    "x = np.arange(N[-1])\n",
    "\n",
    "# Initialise an empty array to stores times for plotting\n",
    "times = []\n",
    "\n",
    "# Time the search for each problem size\n",
    "for n in N:\n",
    "\n",
    "    # Time search function (repeating 3 times) to find a random integer in x[:n]\n",
    "    t = %timeit -q -n4 -r1 -o linear_search(x[:n], np.random.randint(0, n))\n",
    "\n",
    "    # Store best case time\n",
    "    times.append(t.best)"
   ]
  },
  {
   "cell_type": "code",
   "execution_count": 21,
   "metadata": {},
   "outputs": [
    {
     "data": {
      "image/png": "[encoded data removed]",
      "text/plain": [
       "<Figure size 432x288 with 1 Axes>"
      ]
     },
     "metadata": {
      "needs_background": "light"
     },
     "output_type": "display_data"
    }
   ],
   "source": [
    "import matplotlib.pyplot as plt\n",
    "\n",
    "# Plot and label the time taken for linear search\n",
    "plt.loglog(N, times, marker='o', label='linear search')\n",
    "plt.xlabel('$n$')\n",
    "plt.ylabel('$t$ (s)')\n",
    "\n",
    "# Show a reference line of O(n)\n",
    "\"CHANGED 1e-6 to 1e-7\"\n",
    "plt.loglog(N, 1e-7*N, label='$O(n)$')\n",
    "\n",
    "# Add legend\n",
    "plt.legend(loc=0)\n",
    "\n",
    "plt.show()"
   ]
  },
  {
   "cell_type": "markdown",
   "metadata": {},
   "source": [
    "### Binary Search:\n",
    "- Best case: $O(1)$ (item not in list)\n",
    "- Worst case: $O(\\log n)$\n",
    "- Average case: $O(\\log n)$"
   ]
  },
  {
   "cell_type": "code",
   "execution_count": 24,
   "metadata": {},
   "outputs": [],
   "source": [
    "def binary_search(x, val):\n",
    "    \"Peform binary search on x to find val. If found returns position, otherwise returns None.\"\n",
    "\n",
    "    # Intialise end point indices\n",
    "    lower, upper = 0, len(x) - 1\n",
    "\n",
    "    # If values is outside of interval, return None \n",
    "    if val < x[lower] or val > x[upper]:\n",
    "        return None\n",
    "\n",
    "    # Perform binary search\n",
    "    while True:\n",
    "                \n",
    "        # Compute midpoint index (integer division)\n",
    "        midpoint = (upper + lower)//2\n",
    "\n",
    "        # Check which side of x[midpoint] val lies, and update midpoint accordingly\n",
    "        if val < x[midpoint]:\n",
    "            upper = midpoint - 1\n",
    "        elif val > x[midpoint]:\n",
    "            lower = midpoint + 1\n",
    "        elif val == x[midpoint]:  # found, so return\n",
    "            return midpoint\n",
    "       \n",
    "        # In this case val is not in list (return None)\n",
    "        if upper < lower:\n",
    "            return None"
   ]
  },
  {
   "cell_type": "code",
   "execution_count": 40,
   "metadata": {},
   "outputs": [
    {
     "data": {
      "image/png": "[encoded data removed]",
      "text/plain": [
       "<Figure size 432x288 with 1 Axes>"
      ]
     },
     "metadata": {
      "needs_background": "light"
     },
     "output_type": "display_data"
    }
   ],
   "source": [
    "# I will delete the comments because the process as the plot process is same as above for linear search\n",
    "import numpy as np\n",
    "\n",
    "N = 2**np.arange(2, 24)\n",
    "x = np.arange(N[-1])\n",
    "x = np.sort(x)\n",
    "times = []\n",
    "for n in N:\n",
    "    t = %timeit -q -n5 -r2 -o binary_search(x[:n], 2)\n",
    "    times.append(t.best)\n",
    "\n",
    "plt.semilogx(N, times, marker='o', label='binary search')\n",
    "plt.semilogx(N, 5e-7*np.log(N), label = '$O(\\log(n))$')\n",
    "plt.xlabel('$n$')\n",
    "plt.ylabel('$t$ (s)')\n",
    "plt.legend(loc=0);\n",
    "plt.ticklabel_format(style='sci', axis='y', scilimits=(0,0))\n",
    "plt.show()"
   ]
  },
  {
   "cell_type": "markdown",
   "metadata": {},
   "source": [
    "### Bubble Sort\n",
    "\n",
    "Complexity: $O(n^{2})$"
   ]
  },
  {
   "cell_type": "code",
   "execution_count": 41,
   "metadata": {},
   "outputs": [],
   "source": [
    "def bubble_sort(A):\n",
    "    \"Sort A and return\"\n",
    "    A = A.copy()\n",
    "    n = len(A)\n",
    "    while n > 0: # O(n)\n",
    "        for i in range(n - 1): #O(n)\n",
    "            # Swap data if in wrong order\n",
    "            if A[i] > A[i + 1]:\n",
    "                A[i + 1], A[i] = A[i], A[i + 1] # O(1)\n",
    "        n = n - 1\n",
    "    return A"
   ]
  },
  {
   "cell_type": "code",
   "execution_count": 42,
   "metadata": {},
   "outputs": [
    {
     "data": {
      "image/png": "[encoded data removed]",
      "text/plain": [
       "<Figure size 432x288 with 1 Axes>"
      ]
     },
     "metadata": {
      "needs_background": "light"
     },
     "output_type": "display_data"
    }
   ],
   "source": [
    "N = 2**np.arange(2, 10)\n",
    "x = np.random.rand(N[-1])\n",
    "times = []\n",
    "for n in N:\n",
    "    t = %timeit -q -n2 -r2 -o bubble_sort(x[:n])\n",
    "    times.append(t.best)\n",
    "\n",
    "plt.loglog(N, times, marker='o', label='bubble sort')\n",
    "plt.loglog(N, 1e-6*N**2, label='$O(n^2)$')\n",
    "plt.xlabel('$n$')\n",
    "plt.ylabel('$t$ (s)')\n",
    "plt.legend(loc=0)\n",
    "plt.show()"
   ]
  },
  {
   "cell_type": "markdown",
   "metadata": {},
   "source": [
    "### Quicksort\n",
    "\n",
    "- Best case: $O(n\\log n)$\n",
    "- Worst case: $O(n^{2})$ (already sorted data)\n",
    "- Average case: $O(n\\log n)$"
   ]
  },
  {
   "cell_type": "code",
   "execution_count": 43,
   "metadata": {},
   "outputs": [],
   "source": [
    "def quicksort(A, lo=0, hi=None):\n",
    "    \"Sort A and return sorted array\"\n",
    "\n",
    "    # Initialise data the first time function is called    \n",
    "    if hi is None:\n",
    "        hi = len(A) - 1\n",
    "        A = A.copy()\n",
    "\n",
    "    # Sort    \n",
    "    if lo < hi:\n",
    "        p = partition(A, lo,  hi)\n",
    "        quicksort(A, lo, p - 1)\n",
    "        quicksort(A, p + 1, hi)\n",
    "    return A\n",
    "\n",
    "\n",
    "def partition(A, lo, hi):\n",
    "    \"Partitioning function for use in quicksort\"\n",
    "    pivot = A[hi]\n",
    "    i = lo\n",
    "    for j in range(lo,  hi):\n",
    "        if A[j] <= pivot:\n",
    "            A[i], A[j] = A[j], A[i]\n",
    "            i += 1\n",
    "    A[i], A[hi] = A[hi], A[i]\n",
    "    return i"
   ]
  },
  {
   "cell_type": "code",
   "execution_count": 44,
   "metadata": {},
   "outputs": [
    {
     "data": {
      "image/png": "[encoded data removed]",
      "text/plain": [
       "<Figure size 432x288 with 1 Axes>"
      ]
     },
     "metadata": {
      "needs_background": "light"
     },
     "output_type": "display_data"
    }
   ],
   "source": [
    "N = 2**np.arange(2, 14)\n",
    "x = np.random.rand(N[-1])\n",
    "times = []\n",
    "for n in N:\n",
    "    t = %timeit -n1 -r1 -o -q quicksort(x[:n])\n",
    "    times.append(t.best)\n",
    "\n",
    "plt.loglog(N, times, marker='o', label='quicksort')\n",
    "plt.loglog(N, 1e-6*N*np.log(N), label='$O(n\\log\\, n)$')\n",
    "plt.xlabel('$n$')\n",
    "plt.ylabel('$t$ (s)')\n",
    "plt.legend(loc=0)\n",
    "plt.show()"
   ]
  },
  {
   "cell_type": "markdown",
   "metadata": {},
   "source": [
    "See worst case complexity in [11 Complexity](11%20Complexity.ipynb)"
   ]
  },
  {
   "cell_type": "markdown",
   "metadata": {},
   "source": [
    "### Library sort implementations\n",
    "They are like 100 times faster than our implementation <br>\n",
    "numpy's quicksort  `np.sort(x[:n], kind='quicksort')` also avoids the worst case scenario pretty well (sorted list)"
   ]
  },
  {
   "cell_type": "markdown",
   "metadata": {},
   "source": [
    "My implementations, tests, and complexity graphs for dot product of vectors, matrix-vector multiplication, and matrix-matrix multiplication are in [Exercise 11](11%20Exercises.ipynb).You can see how much slower my implementations are compared to numpy.dot(self, other).\n",
    "\n",
    "Also see my graph for determining the complexity of numpy's determinant, and turns out numpy uses the fast matrix multiplication, which has an interesting complexity of $O(n^{2.373})$."
   ]
  },
  {
   "cell_type": "markdown",
   "metadata": {},
   "source": [
    "# 12 Object-oriented design\n",
    "\n",
    "Objectives:\n",
    "- Appreciate objects as instantiations of classes\n",
    "- Understanding of attributes and methods of classes\n",
    "- Learn to create simple classes\n",
    "- Implement and use class methods"
   ]
  },
  {
   "cell_type": "markdown",
   "metadata": {},
   "source": [
    "### Understanding Classes"
   ]
  },
  {
   "cell_type": "code",
   "execution_count": 48,
   "metadata": {},
   "outputs": [
    {
     "name": "stdout",
     "output_type": "stream",
     "text": [
      "<class 'numpy.ndarray'>\n",
      "(2, 3)\n",
      "6\n",
      "2\n",
      "-4\n",
      "[[-4  1  7]\n",
      " [-1  2  6]]\n",
      "[1. 1. 1.]\n",
      "[4. 7.]\n"
     ]
    }
   ],
   "source": [
    "\"numpy.ndarray class:\"\n",
    "A = np.array([[1, -4, 7], [2, 6, -1]])\n",
    "print(type(A))\n",
    "\n",
    "\"Attributes: A.attr\"\n",
    "print(A.shape)\n",
    "print(A.size)\n",
    "print(A.ndim)\n",
    "\n",
    "\"Methods: A.method()\"\n",
    "print(A.min())\n",
    "A.sort(kind='quicksort') # Taking arguments\n",
    "print(A)\n",
    "\n",
    "x = np.ones(A.shape[1]) # Taking other objects as arguments\n",
    "print(x)\n",
    "b = A.dot(x)\n",
    "print(b)"
   ]
  },
  {
   "cell_type": "markdown",
   "metadata": {},
   "source": [
    "### Creating Classes"
   ]
  },
  {
   "cell_type": "code",
   "execution_count": 49,
   "metadata": {},
   "outputs": [],
   "source": [
    "class PersonName:\n",
    "    def __init__(self, surname, forename):\n",
    "        self.surname = surname  # Attribute\n",
    "        self.forename = forename  # Attribute\n",
    "        \n",
    "    # This is a method\n",
    "    def full_name(self):\n",
    "        \"Return full name (forename surname)\"\n",
    "        return self.forename + \" \" + self.surname\n",
    "\n",
    "    # This is a method\n",
    "    def surname_forename(self, sep=\",\"):\n",
    "        \"Return 'surname, forename', with option to specify separator\"\n",
    "        return self.surname + sep + \" \" + self.forename"
   ]
  },
  {
   "cell_type": "code",
   "execution_count": 51,
   "metadata": {},
   "outputs": [
    {
     "name": "stdout",
     "output_type": "stream",
     "text": [
      "<class '__main__.PersonName'>\n"
     ]
    }
   ],
   "source": [
    "# Instantiate an object\n",
    "name_entry = PersonName(\"Bloggs\", \"Joanna\")\n",
    "print(type(name_entry))"
   ]
  },
  {
   "cell_type": "code",
   "execution_count": 52,
   "metadata": {},
   "outputs": [
    {
     "name": "stdout",
     "output_type": "stream",
     "text": [
      "Bloggs\n",
      "Joanna\n"
     ]
    }
   ],
   "source": [
    "# Attributes\n",
    "print(name_entry.surname)\n",
    "print(name_entry.forename)"
   ]
  },
  {
   "cell_type": "code",
   "execution_count": 53,
   "metadata": {},
   "outputs": [
    {
     "name": "stdout",
     "output_type": "stream",
     "text": [
      "Joanna Bloggs\n",
      "Bloggs, Joanna\n",
      "Bloggs; Joanna\n"
     ]
    }
   ],
   "source": [
    "# Methods\n",
    "print(name_entry.full_name())\n",
    "print(name_entry.surname_forename())\n",
    "print(name_entry.surname_forename(\";\"))"
   ]
  },
  {
   "cell_type": "markdown",
   "metadata": {},
   "source": [
    "### Mathematical Examples"
   ]
  },
  {
   "cell_type": "code",
   "execution_count": 71,
   "metadata": {},
   "outputs": [],
   "source": [
    "class MyNumber:\n",
    "\n",
    "    def __init__(self, x):\n",
    "        self.x = x  # Store value (attribute)\n",
    "        \n",
    "    # Custom '<' operator (method)\n",
    "    def __lt__(self, other):\n",
    "        if self.x % 2 == 0 and other.x % 2 != 0:  # I am even, other is odd, so I am less than                   \n",
    "            return True\n",
    "        elif self.x % 2 != 0 and other.x % 2 == 0:  # I am odd, other is even, so I am not less than \n",
    "            return False\n",
    "        else:\n",
    "            return self.x < other.x  # Use usual ordering of numbers\n",
    "\n",
    "    # Custom '==' operator (method)\n",
    "    def __eq__(self, other):\n",
    "        return self.x == other.x\n",
    "\n",
    "    # Custom '>' operator (method)\n",
    "    def __gt__(self, other):\n",
    "        if self.x % 2 == 0 and other.x % 2 != 0:  # I am even, other is odd, so I am not greater                    \n",
    "            return False\n",
    "        elif self.x % 2 != 0 and other.x % 2 == 0:  # I am odd, other is even, so I am greater                    \n",
    "            return True\n",
    "        else:\n",
    "            return self.x > other.x  # Use usual ordering of numbers\n",
    "\n",
    "    # This function is called by Python when we try to print something   \n",
    "    def __repr__(self):\n",
    "        return str(self.x)"
   ]
  },
  {
   "cell_type": "code",
   "execution_count": 75,
   "metadata": {},
   "outputs": [
    {
     "name": "stdout",
     "output_type": "stream",
     "text": [
      "True\n",
      "False\n",
      "False\n",
      "4 ,  3\n"
     ]
    }
   ],
   "source": [
    "x = MyNumber(4)\n",
    "y = MyNumber(3)\n",
    "print(x < y)     # Expect True (since x is even and y is odd)\n",
    "print(y < x)     # Expect False\n",
    "print(x == y)    # Expect False, not an error\n",
    "print(x,', ', y) # Expect 4,3 not two of this: <__main__.MyNumber object at 0x0000015BEA751E08>"
   ]
  },
  {
   "cell_type": "code",
   "execution_count": 78,
   "metadata": {},
   "outputs": [
    {
     "name": "stdout",
     "output_type": "stream",
     "text": [
      "[0, 58, 96, 98, 144, 166, 45, 49, 61, 137]\n"
     ]
    }
   ],
   "source": [
    "x = np.random.randint(0, 200, 10)\n",
    "y = [MyNumber(v) for v in x]\n",
    "\n",
    "# Use the built-in list sort method to sort the list of 'MyNumber' objects\n",
    "y.sort()\n",
    "print(y) # Expect even numbers first"
   ]
  },
  {
   "cell_type": "code",
   "execution_count": 80,
   "metadata": {},
   "outputs": [],
   "source": [
    "class MyVector:\n",
    "    \"\"\"A vector object that can return its size and norm, and can compute the dot product \n",
    "    with another vector  \"\"\"\n",
    "\n",
    "    def __init__(self, x): # Initialize self\n",
    "        self.x = x # Add an attribute called x\n",
    "\n",
    "    # Return length of vector\n",
    "    def size(self):\n",
    "        return len(self.x)\n",
    "    \n",
    "    # This allows access by index, e.g. y[2]\n",
    "    def __getitem__(self, index):\n",
    "        return self.x[index]\n",
    "    \n",
    "    # Calculate the norm\n",
    "    def norm(self):\n",
    "        n = 0\n",
    "        for i in range(self.size()):\n",
    "            n += self[i]**2\n",
    "        return n**0.5\n",
    "    \n",
    "    # Calculate the dot product\n",
    "    def dot(self, other):\n",
    "        d = 0\n",
    "        for i in range(self.size()):\n",
    "            d += self[i] * other[i]\n",
    "        return d\n",
    "    \n",
    "    # For printing the list, not sth like <__main__.MyVector object at 0x0000015BEA7C1808>\n",
    "    def __repr__(self):\n",
    "        return(str(self.x))"
   ]
  },
  {
   "cell_type": "code",
   "execution_count": 81,
   "metadata": {},
   "outputs": [
    {
     "name": "stdout",
     "output_type": "stream",
     "text": [
      "3\n",
      "1\n",
      "1\n",
      "2.449489742783178\n",
      "[1, 1, 2]\n"
     ]
    }
   ],
   "source": [
    "u = MyVector([1, 1, 2])\n",
    "v = MyVector([2, 1, 1])\n",
    "\n",
    "print(u.size())\n",
    "\n",
    "print(u.__getitem__(0))\n",
    "print(u[0])\n",
    "\n",
    "print(u.norm())\n",
    "print(u)"
   ]
  },
  {
   "cell_type": "markdown",
   "metadata": {},
   "source": [
    "and... that's all for the Michalemas Computing Course!\n",
    "$$\n",
    "{\\Huge \\it end}\n",
    "$$"
   ]
  },
  {
   "cell_type": "markdown",
   "metadata": {},
   "source": [
    "# Appendix\n",
    "\n",
    "Here I will list all the markdown formatting that I may use in the notebook\n",
    "\n",
    "> Update: after finishing this whole thing I only just realized there is a 'Using Notebooks' notebook\n",
    "> that details everything I've written below <br>\n",
    "> Link to the file: [Using notebooks](Using%20notebooks.ipynb)\n",
    "\n",
    "<br>\n",
    "\n",
    "\n",
    "## Subheaders\n",
    "### Subsubheader\n",
    "#### I don't even know whether I'll use this header\n",
    "\n",
    "<br><br>A lot of breaks with `<br>`\n",
    "<br> \n",
    "\n",
    "*Italic* keywords\n",
    "> Highlights or key ideas with a nice little indent over here\n",
    "\n",
    "Some Hyperlinks, like this one: [00 Introduction](00%20Part%20IA%20Michaelmas%20Term%20computing.ipynb)\n",
    " <br><br>\n",
    "\n",
    "- Bullet points\n",
    "\n",
    "\n",
    "1. Lists, and its interesting how you only need to type 1. for all of them\n",
    "1. and also separate 2 normal lines between bullet points and enumerated lists\n",
    "\n",
    "<br>\n",
    "\n",
    "\n",
    "`Some code` within sentences, or\n",
    "\n",
    "```python\n",
    "print(\"Some Python Code (that is just for show)\")\n",
    "```\n",
    "\n",
    "<br>\n",
    "\n",
    "\n",
    "Some $\\LaTeX \\; \\textit{equations} \\; or \\; \\textbf{variables}$ within text, or\n",
    "$$\n",
    "\\int \\; \\LaTeX \\; \\textit{Equation}x \\; dx\n",
    "$$\n",
    "\n",
    "\n",
    "\n",
    "More $\\LaTeX$ code\n",
    "\n",
    "\\begin{align}\n",
    "\\dot{x} & = \\sigma(y-x) \\\\\n",
    "\\dot{y} & = \\rho x - y - xz \\\\\n",
    "\\dot{z} & = -\\beta z + xy\n",
    "\\end{align}"
   ]
  }
 ],
 "metadata": {
  "kernelspec": {
   "display_name": "Python 3",
   "language": "python",
   "name": "python3"
  },
  "language_info": {
   "codemirror_mode": {
    "name": "ipython",
    "version": 3
   },
   "file_extension": ".py",
   "mimetype": "text/x-python",
   "name": "python",
   "nbconvert_exporter": "python",
   "pygments_lexer": "ipython3",
   "version": "3.7.6"
  }
 },
 "nbformat": 4,
 "nbformat_minor": 4
}
