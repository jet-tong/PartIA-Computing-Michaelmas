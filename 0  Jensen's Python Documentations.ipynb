{
 "cells": [
  {
   "cell_type": "markdown",
   "metadata": {},
   "source": [
    "DISCOVERY: in cmd, type `py -m pip install --upgrade jupyterthemes` to make pip work"
   ]
  },
  {
   "cell_type": "code",
   "execution_count": 9,
   "metadata": {},
   "outputs": [],
   "source": [
    "\"Installing libraries\"\n",
    "\n",
    "# NumPy\n",
    "import numpy as np\n",
    "\n",
    "# IPython Magic command for matplotlib\n",
    "%matplotlib inline\n",
    "import matplotlib.pyplot as plt\n",
    "\n",
    "# IPython Kernel Config: display all outputs\n",
    "from IPython.core.interactiveshell import InteractiveShell\n",
    "InteractiveShell.ast_node_interactivity = \"all\""
   ]
  },
  {
   "cell_type": "markdown",
   "metadata": {},
   "source": [
    "# NumPy"
   ]
  },
  {
   "cell_type": "markdown",
   "metadata": {},
   "source": [
    "### NumPy Arrays\n",
    "\n",
    "```python\n",
    "np.zeros(shape, dtype=float, order='C')\n",
    "np.ones(shape, dtype=float, order='C')\n",
    "# Shape: Integer for 1D array,\n",
    "#        [x,y,z,t] for more dimensions\n",
    "\n",
    "np.random.rand()\n",
    "\n",
    "np.random.norm()\n",
    "```"
   ]
  },
  {
   "cell_type": "markdown",
   "metadata": {},
   "source": [
    "# Plotting\n",
    "[Colour Codes for Pie Chart](https://stackoverflow.com/questions/22408237/named-colors-in-matplotlib)"
   ]
  },
  {
   "cell_type": "markdown",
   "metadata": {},
   "source": [
    "```python\n",
    "plt.plot(*args, scalex=True, scaley=True, data=None, **kwargs)[source]\n",
    "```"
   ]
  }
 ],
 "metadata": {
  "kernelspec": {
   "display_name": "Python 3",
   "language": "python",
   "name": "python3"
  },
  "language_info": {
   "codemirror_mode": {
    "name": "ipython",
    "version": 3
   },
   "file_extension": ".py",
   "mimetype": "text/x-python",
   "name": "python",
   "nbconvert_exporter": "python",
   "pygments_lexer": "ipython3",
   "version": "3.7.6"
  }
 },
 "nbformat": 4,
 "nbformat_minor": 4
}
